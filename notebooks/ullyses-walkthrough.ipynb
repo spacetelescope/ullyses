{
 "cells": [
  {
   "cell_type": "markdown",
   "metadata": {
    "slideshow": {
     "slide_type": "slide"
    }
   },
   "source": [
    "<a id=\"top\"></a>\n",
    "# ULLYSES Data Walkthrough Notebook"
   ]
  },
  {
   "cell_type": "markdown",
   "metadata": {
    "slideshow": {
     "slide_type": "skip"
    }
   },
   "source": [
    "***"
   ]
  },
  {
   "cell_type": "markdown",
   "metadata": {},
   "source": [
    "## Learning Goals\n",
    "\n",
    "By the end of this tutorial, you will:\n",
    "\n",
    "- Know the different types of high level science products (HLSPs) offered by the ULLYSES team.\n",
    "- Be able to open each file and view its contents and metadata.\n",
    "- Understand how to use each type of HSLP."
   ]
  },
  {
   "cell_type": "markdown",
   "metadata": {},
   "source": [
    "## Table of Contents\n",
    "**0. [Introduction](#introduction)**\n",
    "\n",
    "**1. [HLSP Descriptions and Filename Convention](#hlspdescrip)**\n",
    "\n",
    "**2. [HLSP File Exploration](#hlspformats)**\n",
    "\n",
    "\\- 2.1 [Non-Variable Spectra](#nonvariable)\n",
    "\n",
    "\\- 2.2 [Time-series Spectra](#tss)\n",
    "\n",
    "\\- 2.3 [WFC3 Drizzled Images](#drizzle)"
   ]
  },
  {
   "cell_type": "markdown",
   "metadata": {
    "slideshow": {
     "slide_type": "slide"
    }
   },
   "source": [
    "<a id=\"introduction\"></a>\n",
    "## Introduction\n",
    "\n",
    "The Hubble Space Telescope’s (HST) Ultraviolet Legacy Library of Young Stars as Essential Standards ([ULLYSES](https://ullyses.stsci.edu/index.html)) program has devoted approximately 1,000 HST orbits to the production of an ultraviolet spectroscopic library of young high- and low-mass stars in the local universe. This Director’s Discretionary program was designed to take advantage of HST’s unique UV capabilities, as both high- and low-mass stars feature different complex UV emission processes that strongly impact their surroundings, but are difficult to model. The UV emission from star formation is central to a wide range of vital astrophysical issues, ranging from cosmic reionization to the formation of planets.\n",
    "\n",
    "The ULLYSES program uniformly sampled the fundamental astrophysical parameter space for each mass regime — including spectral type, luminosity class, and metallicity for massive OB stars (in the Magellanic Clouds and two other lower-metallicity nearby galaxies) and the mass, age, and disk accretion rate for low-mass T Tauri stars (in eight young Galactic associations). The data were gathered over a three-year period, from Cycle 27 through Cycle 29 (2020-2022). The design and targets of these observations were determined in partnership with the astronomical community, allowing researchers from around the world to help develop the final program and to plan coordinated observations with other space- and ground-based telescopes.\n",
    "\n",
    "The ULLYSES team produces several types of High Level Science Products (HLSPs), which we will walk through in this notebook. Products are made using both archival data and new HST observations obtained through the ULLYSES program. Data products are available from the [ULLYSES search catalog](https://mast.stsci.edu/search/ui/#/ullyses) (HLSPs only), the [MAST Data Discovery Portal](https://mast.stsci.edu/) (HLSPs and contributing data), or directly as a High-Level Science Product collection using the [DOI](https://archive.stsci.edu/hlsp/ullyses) (HLSPs only). More information about ULLYSES data products can be found under the [\"Data\"](https://ullyses.stsci.edu/ullyses-download.html) tab on the ULLYSES website."
   ]
  },
  {
   "cell_type": "markdown",
   "metadata": {
    "slideshow": {
     "slide_type": "slide"
    }
   },
   "source": [
    "### Imports\n",
    "- `numpy` to handle array functions\n",
    "- `astropy.io` : `fits` for accessing FITS files\n",
    "- `astroy.wcs` : `WCS` to create world coordinate system objects for plotting WFC3 images\n",
    "- `astropy.table` : `Table` for creating tidy tables of the data\n",
    "- `matplotlib.pyplot` for plotting data\n",
    "- *%matplotlib widget* enables interactive plotting - install using `pip install ipympl`\n",
    "- `pathlib` : `Path` to create product and data directories\n",
    "- `shutil` to perform directory and file operations\n",
    "- `os` to interact with the operating system\n",
    "- `glob` to find all files in the directory\n",
    "- `ullyses_utils` : `match_aliases` to use the target name in the filename of the ULLYSES HLSP"
   ]
  },
  {
   "cell_type": "code",
   "execution_count": null,
   "metadata": {
    "slideshow": {
     "slide_type": "fragment"
    }
   },
   "outputs": [],
   "source": [
    "import numpy as np\n",
    "from astropy.io import fits\n",
    "from astropy.wcs import WCS\n",
    "from astropy.table import Table\n",
    "from astropy.time import Time\n",
    "import matplotlib.pyplot as plt\n",
    "import os\n",
    "from pathlib import Path\n",
    "import shutil\n",
    "import glob\n",
    "\n",
    "from ullyses_utils.match_aliases import match_aliases\n",
    "\n",
    "%matplotlib widget\n",
    "plt.rcParams['figure.figsize'] = 10, 6\n",
    "plt.style.use('seaborn-v0_8-colorblind')"
   ]
  },
  {
   "cell_type": "code",
   "execution_count": null,
   "metadata": {},
   "outputs": [],
   "source": [
    "# Set up a quick function to bin the spectra\n",
    "def downsample_1d(myarr,factor):\n",
    "    \"\"\"\n",
    "    Downsample a 1D array by averaging over <factor> pixels.\n",
    "    Crops right side if the shape is not a multiple of factor.\n",
    "    Got this specific function from \"Adam Ginsburg's python codes\" on agpy\n",
    "\n",
    "    myarr : numpy array\n",
    "\n",
    "    factor : how much you want to rebin the array by\n",
    "    \"\"\"\n",
    "    xs = myarr.shape[0]\n",
    "    crarr = myarr[:xs-(xs % int(factor))]\n",
    "    dsarr = np.mean(np.concatenate(\n",
    "                     [[crarr[i::factor] for i in range(factor)]]\n",
    "                     ), axis=0)\n",
    "\n",
    "    return dsarr"
   ]
  },
  {
   "cell_type": "markdown",
   "metadata": {},
   "source": [
    "***"
   ]
  },
  {
   "cell_type": "markdown",
   "metadata": {},
   "source": [
    "<a id=\"hlspdescrip\"></a>\n",
    "## HLSP Descriptions and Filename Convention"
   ]
  },
  {
   "cell_type": "markdown",
   "metadata": {},
   "source": [
    "The file names for ULLYSES science data products follow a specific naming scheme. This includes the target name, instrument(s), and observing configuration(s) that contributed to the product. However, not all products will appear in the early releases. File names have the form:\n",
    "\n",
    "`hlsp_ullyses_<telescope>_<instrument>_<target>_<opt_elem>_<version>_<product-type>`\n",
    "\n",
    "where\n",
    "`<target>` is the target name and `<version>` is the data release identifier (dr1, dr2, etc.)\n",
    "\n",
    "The `<telescope>`, `<instrument>`, `<opt_elem>`, and `<product-type>` templates take names from the following table:"
   ]
  },
  {
   "cell_type": "markdown",
   "metadata": {},
   "source": [
    "| Description                                                                                                  | Telescope | Instrument    | Opt-Elem                                        | Product-Type      | Level |\n",
    "|--------------------------------------------------------------------------------------------------------------|-----------|---------------|-------------------------------------------------|-------------------|-------|\n",
    "| Custom calibrated STIS 1D spectra                                                                            | hst       | stis          | g230l, g430l, or g750l                             | spec.fits         | 0     |\n",
    "| STIS custom calibration parameter files                                                                      | hst       | stis          | g230l, g430l, or g750l                             | spec.yaml         | 0     |\n",
    "| Combined spectra, with common instrument and  grating, and in some cases with different cenwave settings.    | hst       | cos           | g130m, g160m, g185m, or g230l                      | cpsec.fits        | 2     |\n",
    "|                                                                                                              |           | stis          | e140l, e230h, e140m, e230m, g230l, g430l, or g750l |                   |       |\n",
    "| Combined spectra, with common instrument, different gratings and cenwave settings, and grouped by resolution | fuse      | fuv           | lwrs or mdrs                                    | aspec.fits        | 3     |\n",
    "|                                                                                                              | hst       | cos           | g130m-g160m-g185m                               |                   |       |\n",
    "|                                                                                                              |           | stis          | e140h-e230h, g140m-e230m or g230l-g430l-g750l |                   |       |\n",
    "| All instruments and settings abutted together*                                                               | hst       | cos-stis      | uv or uv-opt                                    | preview-spec.fits | 4     |\n",
    "|                                                                                                              | hst-fuse  | fuse-cos-stis | uv-opt                                          |                   |       |\n",
    "| Exposure-level time-series spectra                                                                           | hst       | cos           | g130m or g160m                                    | tss.fits          | 5     |\n",
    "|                                                                                                              | lcogt     | 04m           | v-ip                                            |                   |       |\n",
    "| Subexposure-level time-series spectra                                                                        | hst       | cos           | g130m or g160m                                    | split-tss.fits    | 5     |\n",
    "| WFC3 drizzled images                                                                                         | hst       | wfc3          | f225w, f275w, f336w, f475w or f814w               | drc.fits          | 6     |"
   ]
  },
  {
   "cell_type": "markdown",
   "metadata": {},
   "source": [
    "***"
   ]
  },
  {
   "cell_type": "markdown",
   "metadata": {},
   "source": [
    "<a id=\"hlspformats\"></a>\n",
    "## HLSP File Formats"
   ]
  },
  {
   "cell_type": "markdown",
   "metadata": {},
   "source": [
    "Most High Level Science Products are in FITS format. The organization of each FITS file depends on the HLSP type. There are three broad categories of HLSPs: [non-variable spectra](#nonvariable), [time-series spectra](#tss), and [drizzled images](#drizzle)."
   ]
  },
  {
   "cell_type": "markdown",
   "metadata": {},
   "source": [
    "<a id=\"nonvariable\"></a>\n",
    "### Non-variable Spectra"
   ]
  },
  {
   "cell_type": "markdown",
   "metadata": {},
   "source": [
    "#### FITS File Structure\n",
    "\n",
    "Spectral data and information is stored in two BINTABLE extensions:\n",
    "- a Science extension for the combined product, and\n",
    "- a matching Provenance extension to record attributes of each spectrum that contributed to the combined product\n",
    "\n",
    "Let's start by downloading the available data products for a target with no known variability and look around. More information about the different ULLYSES data product levels can be found on the [ULLYSES website](https://ullyses.stsci.edu/ullyses-data-description.html#productDescrip). You are also able to directly download the data from the [ULLYSES search form](https://mast.stsci.edu/search/ui/#/ullyses/) hosted on MAST.\n",
    "\n",
    "We will download one example star from the high mass sample (SK -67 167) and one example star from the low mass sample (XX Cha)."
   ]
  },
  {
   "cell_type": "code",
   "execution_count": null,
   "metadata": {},
   "outputs": [],
   "source": [
    "# Use curl to download the files -- these are the level 2, 3, and 4 data products for the target SK -67 167\n",
    "!curl -L -X GET \"https://mast.stsci.edu/api/v0.1/Download/file?uri=mast%3AHLSP%2Fullyses%2Fsk-67d167%2Fdr7%2Fhlsp_ullyses_fuse_fuv_sk-67d167_lwrs_dr7_aspec.fits\" --output \"hlsp_ullyses_fuse_fuv_sk-67d167_lwrs_dr7_aspec.fits\" --fail --create-dirs\n",
    "!curl -L -X GET \"https://mast.stsci.edu/api/v0.1/Download/file?uri=mast%3AHLSP%2Fullyses%2Fsk-67d167%2Fdr7%2Fhlsp_ullyses_hst-fuse_fuse-stis_sk-67d167_uv_dr7_preview-spec.fits\" --output \"hlsp_ullyses_hst-fuse_fuse-stis_sk-67d167_uv_dr7_preview-spec.fits\" --fail --create-dirs\n",
    "!curl -L -X GET \"https://mast.stsci.edu/api/v0.1/Download/file?uri=mast%3AHLSP%2Fullyses%2Fsk-67d167%2Fdr7%2Fhlsp_ullyses_hst_stis_sk-67d167_e140m_dr7_cspec.fits\" --output \"hlsp_ullyses_hst_stis_sk-67d167_e140m_dr7_cspec.fits\" --fail --create-dirs"
   ]
  },
  {
   "cell_type": "code",
   "execution_count": null,
   "metadata": {},
   "outputs": [],
   "source": [
    "# Use curl to download the files -- these are the level 2, 3, and 4 data products for the target XX Cha\n",
    "!curl -L -X GET \"https://mast.stsci.edu/api/v0.1/Download/file?uri=mast%3AHLSP%2Fullyses%2Fv-xx-cha%2Fdr7%2Fhlsp_ullyses_hst_cos-stis_v-xx-cha_uv-opt_dr7_preview-spec.fits\" --output \"hlsp_ullyses_hst_cos-stis_v-xx-cha_uv-opt_dr7_preview-spec.fits\" --fail --create-dirs\n",
    "!curl -L -X GET \"https://mast.stsci.edu/api/v0.1/Download/file?uri=mast%3AHLSP%2Fullyses%2Fv-xx-cha%2Fdr7%2Fhlsp_ullyses_hst_stis_v-xx-cha_g230l_dr7_cspec.fits\" --output \"hlsp_ullyses_hst_stis_v-xx-cha_g230l_dr7_cspec.fits\" --fail --create-dirs\n",
    "!curl -L -X GET \"https://mast.stsci.edu/api/v0.1/Download/file?uri=mast%3AHLSP%2Fullyses%2Fv-xx-cha%2Fdr7%2Fhlsp_ullyses_hst_stis_v-xx-cha_g430l_dr7_cspec.fits\" --output \"hlsp_ullyses_hst_stis_v-xx-cha_g430l_dr7_cspec.fits\" --fail --create-dirs\n",
    "!curl -L -X GET \"https://mast.stsci.edu/api/v0.1/Download/file?uri=mast%3AHLSP%2Fullyses%2Fv-xx-cha%2Fdr7%2Fhlsp_ullyses_hst_cos_v-xx-cha_g160m_dr7_cspec.fits\" --output \"hlsp_ullyses_hst_cos_v-xx-cha_g160m_dr7_cspec.fits\" --fail --create-dirs\n",
    "!curl -L -X GET \"https://mast.stsci.edu/api/v0.1/Download/file?uri=mast%3AHLSP%2Fullyses%2Fv-xx-cha%2Fdr7%2Fhlsp_ullyses_hst_stis_v-xx-cha_g750l_dr7_cspec.fits\" --output \"hlsp_ullyses_hst_stis_v-xx-cha_g750l_dr7_cspec.fits\" --fail --create-dirs\n",
    "!curl -L -X GET \"https://mast.stsci.edu/api/v0.1/Download/file?uri=mast%3AHLSP%2Fullyses%2Fv-xx-cha%2Fdr7%2Fhlsp_ullyses_hst_cos_v-xx-cha_g130m_dr7_cspec.fits\" --output \"hlsp_ullyses_hst_cos_v-xx-cha_g130m_dr7_cspec.fits\" --fail --create-dirs\n",
    "!curl -L -X GET \"https://mast.stsci.edu/api/v0.1/Download/file?uri=mast%3AHLSP%2Fullyses%2Fv-xx-cha%2Fdr7%2Fhlsp_ullyses_hst_cos_v-xx-cha_g130m-g160m_dr7_aspec.fits\" --output \"hlsp_ullyses_hst_cos_v-xx-cha_g130m-g160m_dr7_aspec.fits\" --fail --create-dirs\n",
    "!curl -L -X GET \"https://mast.stsci.edu/api/v0.1/Download/file?uri=mast%3AHLSP%2Fullyses%2Fv-xx-cha%2Fdr7%2Fhlsp_ullyses_hst_stis_v-xx-cha_g230l-g430l-g750l_dr7_aspec.fits\" --output \"hlsp_ullyses_hst_stis_v-xx-cha_g230l-g430l-g750l_dr7_aspec.fits\" --fail --create-dirs"
   ]
  },
  {
   "cell_type": "code",
   "execution_count": null,
   "metadata": {},
   "outputs": [],
   "source": [
    "ls *.fits"
   ]
  },
  {
   "cell_type": "markdown",
   "metadata": {},
   "source": [
    "\\\n",
    "Eleven datasets were just downloaded. They include:\n",
    "\n",
    "Level 2\n",
    "- hlsp_ullyses_hst_stis_sk-67d167_e140m_dr7_cspec.fits\n",
    "- hlsp_ullyses_hst_cos_v-xx-cha_g130m_dr7_cspec.fits\n",
    "- hlsp_ullyses_hst_cos_v-xx-cha_g160m_dr7_cspec.fits\n",
    "- hlsp_ullyses_hst_stis_v-xx-cha_g230l_dr7_cspec.fits\n",
    "- hlsp_ullyses_hst_stis_v-xx-cha_g430l_dr7_cspec.fits\n",
    "- hlsp_ullyses_hst_stis_v-xx-cha_g750l_dr7_cspec.fits\n",
    "\n",
    "Level 3\n",
    "- hlsp_ullyses_fuse_fuv_sk-67d167_lwrs_dr7_aspec.fits\n",
    "- hlsp_ullyses_hst_cos_v-xx-cha_g130m-g160m_dr7_aspec.fits\n",
    "- hlsp_ullyses_hst_stis_v-xx-cha_g230l-g430l-g750l_dr7_aspec.fits\n",
    "\n",
    "Level 4\n",
    "- hlsp_ullyses_hst-fuse_fuse-stis_sk-67d167_uv_dr7_preview-spec.fits\n",
    "- hlsp_ullyses_hst_cos-stis_v-xx-cha_uv-opt_dr7_preview-spec.fits\n",
    "\n",
    "We will first go through the level 4 file, which is the data product with all instruments and settings abutted together. This file is intended to be used as a preview/visualization product only."
   ]
  },
  {
   "cell_type": "code",
   "execution_count": null,
   "metadata": {},
   "outputs": [],
   "source": [
    "targets = ['XX CHA', 'SK -67 167']\n",
    "\n",
    "for targ in targets:\n",
    "    ull_targ = match_aliases(targ).lower()\n",
    "    print(ull_targ)\n",
    "    # Create a variable to point to the file we just downloaded\n",
    "    spec_filename = glob.glob(f'*{ull_targ}*_preview-spec.fits')[0]\n",
    "    spec_file = Path(spec_filename)\n",
    "    \n",
    "    # Use Astropy.fits to open the fits file and create a header data unit (HDU)\n",
    "    # More info on fits files and HDUs can be found at: https://docs.astropy.org/en/stable/io/fits/\n",
    "    with fits.open(spec_file) as spec_hdu: \n",
    "        # Print out some information about the format and data in this HDU\n",
    "        print(spec_hdu.info())\n",
    "        \n",
    "    print(f\"**Filename components: {spec_filename.split('_')}\")\n",
    "    print()"
   ]
  },
  {
   "cell_type": "markdown",
   "metadata": {},
   "source": [
    "\\\n",
    "From the filename, `hlsp_ullyses_hst_cos-stis_v-xx-cha_uv-opt_dr7_preview-spec.fits`, we can see:\n",
    "- the telescope used is HST\n",
    "- the instruments used are COS and STIS\n",
    "- the target observed is V-XX-CHA\n",
    "- the wavelength range is UV and Optical\n",
    "- this file was created for Data Release 7\n",
    "\n",
    "and from the filename, `hlsp_ullyses_hst-fuse_fuse-stis_sk-67d167_uv_dr7_preview-spec.fits`, we can see:\n",
    "- the telescopes used are HST and FUSE\n",
    "- the instruments used are STIS and FUSE (\"FUSE\" is also labeled as the instrument)\n",
    "- the target observed is SK-67D167\n",
    "- the wavelength range is UV\n",
    "- this file was created for Data Release 7\n",
    "\n",
    "Now we'll look at the science and provenance extensions."
   ]
  },
  {
   "cell_type": "markdown",
   "metadata": {},
   "source": [
    "#### Non-Variable Spectra Science Table\n",
    "\n",
    "In the data extension for each spectrum, there are five columns: wavelength, flux, error, signal-to-noise ratio, and effective exposure time, all of the same size. The table extension headers also contain informative metadata, although we do not explore that fully here."
   ]
  },
  {
   "cell_type": "code",
   "execution_count": null,
   "metadata": {},
   "outputs": [],
   "source": [
    "# Print the columns in the science extension of the HDU - the science extension is index 1\n",
    "spec_filename = glob.glob(f'*xx-cha*_preview-spec.fits')[0]\n",
    "print(spec_filename)\n",
    "with fits.open(spec_filename) as spec_hdu:\n",
    "    print(spec_hdu[1].columns)"
   ]
  },
  {
   "cell_type": "markdown",
   "metadata": {},
   "source": [
    "Now let's plot the flux, error, wavelength, and SNR for each level 4 (`preview-spec`) dataset. To get these values we use `.data` to access the data in the science extension of the HDU. To access the header of this extension instead, we would use `.header`"
   ]
  },
  {
   "cell_type": "code",
   "execution_count": null,
   "metadata": {},
   "outputs": [],
   "source": [
    "# setting up a quick function to get the first extension data from the ULLYSES level 2, level 3, and level 4 products\n",
    "def get_non_variable_data(filename):\n",
    "\n",
    "    with fits.open(filename) as spec_hdu:\n",
    "        # open all of the data arrays we will use\n",
    "        wavelength = spec_hdu[1].data['WAVELENGTH'][0]\n",
    "        flux = spec_hdu[1].data['FLUX'][0]\n",
    "        snr = spec_hdu[1].data['SNR'][0]\n",
    "        error = spec_hdu[1].data['ERROR'][0]\n",
    "        grating = ' & '.join(np.unique(spec_hdu[2].data['DISPERSER'])) # unique gratings used from provenance extension\n",
    "\n",
    "        # set the zeros to nans for better plotting; there will be a gap instead of a dip around a data quality flag\n",
    "        flux[np.where(flux == 0.0)[0]] = \"nan\"\n",
    "        error[np.where(error == 0.0)[0]] = \"nan\"\n",
    "        snr[np.where(snr == 0.0)[0]] = \"nan\" \n",
    "\n",
    "    return wavelength, flux, error, snr, grating"
   ]
  },
  {
   "cell_type": "code",
   "execution_count": null,
   "metadata": {},
   "outputs": [],
   "source": [
    "# Plot the level 4 preview-spec for each of the targets \n",
    "for targ in targets:\n",
    "    # use the built in ULLYSES function to find the HLSP name for the target\n",
    "    ull_targ = match_aliases(targ).lower()\n",
    "    \n",
    "    # Create a variable to point to the correct preview-spec file\n",
    "    prevspec_filename = glob.glob(f'*{ull_targ}*_preview-spec.fits')[0]\n",
    "    prevspec_file = Path(prevspec_filename)\n",
    "\n",
    "    wavelength, flux, error, snr, gratings = get_non_variable_data(prevspec_file)    \n",
    "        \n",
    "    # Set up the plot\n",
    "    fig = plt.figure()\n",
    "    gs = fig.add_gridspec(3, hspace=0)\n",
    "    axs = gs.subplots(sharex=True, sharey=False)\n",
    "    axs[0].plot(wavelength, flux, color='k')\n",
    "    axs[1].plot(wavelength, error, color='k')\n",
    "    axs[2].plot(wavelength, snr, color='k')\n",
    "\n",
    "    # add the labels & limits\n",
    "    axs[0].set_xlim(wavelength.min(), wavelength.max())\n",
    "    if ull_targ == 'v-xx-cha':\n",
    "        axs[0].set_ylim(-1E-15, 5E-14)\n",
    "        axs[1].set_ylim(-1E-15, 4E-15)\n",
    "    \n",
    "    plt.suptitle(f'{targ.upper()} preview-spec')\n",
    "    axs[0].set_ylabel('Flux\\n[ergs/s/cm^2/$\\mathrm{\\AA}$]')\n",
    "    axs[1].set_ylabel('Error\\n[ergs/s/cm^2/$\\mathrm{\\AA}$]')\n",
    "    axs[2].set_ylabel('SNR')\n",
    "    plt.xlabel('Wavelength [$\\mathrm{\\AA}$]')"
   ]
  },
  {
   "cell_type": "markdown",
   "metadata": {},
   "source": [
    "Now that we know what the level 4 product (`preview-spec`) looks like, let's see how the combined level 2 products (`cspec`) compare."
   ]
  },
  {
   "cell_type": "code",
   "execution_count": null,
   "metadata": {},
   "outputs": [],
   "source": [
    "# Print the columns in the science extension of the HDU - the science extension is index 1\n",
    "cspec_filename = glob.glob(f'*xx-cha*_cspec.fits')[0]\n",
    "print(cspec_filename)\n",
    "with fits.open(cspec_filename) as cspec_hdu:\n",
    "    print(cspec_hdu.info())\n",
    "    print()\n",
    "    print(cspec_hdu[1].columns)"
   ]
  },
  {
   "cell_type": "code",
   "execution_count": null,
   "metadata": {},
   "outputs": [],
   "source": [
    "# For each target, plot the level 4 preview-spec and the level 2 cspec products\n",
    "for targ in targets:\n",
    "    # use the built in ULLYSES function to find the HLSP name for the target\n",
    "    ull_targ = match_aliases(targ).lower()\n",
    "    \n",
    "    # Create a variable to point to the correct preview-spec file\n",
    "    prevspec_file = glob.glob(f'*{ull_targ}*_preview-spec.fits')[0]\n",
    "    spec_file = Path(prevspec_file)\n",
    "\n",
    "    # preview-spec data\n",
    "    wavelength, flux, error, snr, gratings = get_non_variable_data(spec_file)  \n",
    "\n",
    "    # Make an array to hold the level 2 filenames\n",
    "    level2 = glob.glob(f'*{ull_targ}*cspec*')\n",
    "    \n",
    "    # Set up the plot - start with plotting the level 4 products\n",
    "    fig = plt.figure()\n",
    "    gs = fig.add_gridspec(3, hspace=0)\n",
    "    axs = gs.subplots(sharex=True, sharey=False)\n",
    "\n",
    "    axs[0].plot(wavelength, flux, color='k', label='preview-spec')\n",
    "    axs[1].plot(wavelength, error, color='k')\n",
    "    axs[2].plot(wavelength, snr, color='k')\n",
    "    \n",
    "    # Then use a for loop to add the level 2 products on top\n",
    "    for prod in level2:\n",
    "        # level 2 product data\n",
    "        prod_wavelength, prod_flux, prod_error, prod_snr, prod_gratings = get_non_variable_data(prod) \n",
    "\n",
    "        axs[0].plot(prod_wavelength, prod_flux, alpha=0.8, label=prod_gratings)\n",
    "        axs[1].plot(prod_wavelength, prod_error, alpha=0.8)\n",
    "        axs[2].plot(prod_wavelength, prod_snr, alpha=0.8) \n",
    "    \n",
    "    # Add all the labels & limits\n",
    "    plt.suptitle(f'{targ.upper()} cspec')\n",
    "    axs[0].set_ylabel('Flux\\n[ergs/s/cm^2/$\\mathrm{\\AA}$]')\n",
    "    axs[1].set_ylabel('Error\\n[ergs/s/cm^2/$\\mathrm{\\AA}$]')\n",
    "    axs[2].set_ylabel('SNR')\n",
    "    plt.xlabel('Wavelength [$\\mathrm{\\AA}$]')\n",
    "    axs[0].legend(ncol=len(level2)+1, loc='upper left')\n",
    "\n",
    "    axs[0].set_xlim(wavelength.min(), wavelength.max())\n",
    "    if ull_targ == 'v-xx-cha':\n",
    "        axs[0].set_ylim(-1E-15, 5E-14)\n",
    "        axs[1].set_ylim(-1E-15, 5E-15)\n",
    "    else:\n",
    "        # set the limit based on the preview-spec to avoid grating edges\n",
    "        axs[0].set_ylim(np.nanmin(flux), np.nanmax(flux)) \n",
    "        axs[1].set_ylim(np.nanmin(error), np.nanmax(error)) \n"
   ]
  },
  {
   "cell_type": "markdown",
   "metadata": {},
   "source": [
    "In the above figures, we can see which combined `cspec` files are used in the abutted `preview-spec` files. A close look at the edges of each `cspec` file shows the decisions made by the abuttment logic for these gratings. This logic was determined to be the best for most targets, but the logic isn't perfect for every target, so the more indepth notebook [`ullyses-coadd.ipynb`](https://github.com/spacetelescope/ullyses/blob/main/notebooks/ullyses-coadd.ipynb) shows how to use the ULLYSES coadd and abut code to create your own products.\n",
    "\n",
    "\n",
    "Finally, let's compare the level 3 product (`aspec`) with the level 4 product (`preview-spec`). The `aspec` file abuts all `cspec` files for gratings of similar resolution. Note that all FUSE spectra are level 3 products."
   ]
  },
  {
   "cell_type": "code",
   "execution_count": null,
   "metadata": {},
   "outputs": [],
   "source": [
    "# Print the columns in the science extension of the HDU - the science extension is index 1\n",
    "aspec_filename = glob.glob(f'*xx-cha*_aspec.fits')[0]\n",
    "print(aspec_filename)\n",
    "with fits.open(aspec_filename) as aspec_hdu:\n",
    "    print(aspec_hdu.info())\n",
    "    print()\n",
    "    print(aspec_hdu[1].columns)"
   ]
  },
  {
   "cell_type": "code",
   "execution_count": null,
   "metadata": {},
   "outputs": [],
   "source": [
    "for targ in targets:\n",
    "    # use the built in ULLYSES function to find the HLSP name for the target\n",
    "    ull_targ = match_aliases(targ).lower()\n",
    "    \n",
    "    # Create a variable to point to the correct preview-spec file\n",
    "    prevspec_filename = glob.glob(f'*{ull_targ}*_preview-spec.fits')[0]\n",
    "    spec_file = Path(prevspec_filename)\n",
    "\n",
    "    # Make an array to hold the level 3 filenames\n",
    "    level3 = glob.glob(f'*{ull_targ}*aspec*')\n",
    "    \n",
    "    # Set up the plot - start with plotting the level 4 products\n",
    "    fig = plt.figure()\n",
    "    gs = fig.add_gridspec(3, hspace=0)\n",
    "    axs = gs.subplots(sharex=True, sharey=False)\n",
    "\n",
    "    # preview-spec data\n",
    "    wavelength, flux, error, snr, gratings = get_non_variable_data(spec_file)  \n",
    "    \n",
    "    axs[0].plot(wavelength, flux, color='k', label='preview-spec')\n",
    "    axs[1].plot(wavelength, error, color='k')\n",
    "    axs[2].plot(wavelength, snr, color='k')\n",
    "    \n",
    "    # Then use a for loop to add the level 3 products on top\n",
    "    for prod in level3:\n",
    "        # level 3 product data\n",
    "        prod_wavelength, prod_flux, prod_error, prod_snr, prod_gratings = get_non_variable_data(prod) \n",
    "\n",
    "        axs[0].plot(prod_wavelength, prod_flux, alpha=0.8, label=prod_gratings)\n",
    "        axs[1].plot(prod_wavelength, prod_error, alpha=0.8)\n",
    "        axs[2].plot(prod_wavelength, prod_snr, alpha=0.8) \n",
    "        \n",
    "    \n",
    "    # Add all the labels & limits\n",
    "    plt.suptitle(f'{targ.upper()} aspec')\n",
    "    axs[0].set_ylabel('Flux\\n[ergs/s/cm^2/$\\mathrm{\\AA}$]')\n",
    "    axs[1].set_ylabel('Error\\n[ergs/s/cm^2/$\\mathrm{\\AA}$]')\n",
    "    axs[2].set_ylabel('SNR')\n",
    "    plt.xlabel('Wavelength [$\\mathrm{\\AA}$]')\n",
    "    axs[0].legend(ncol=len(level3)+1, loc='upper left')\n",
    "\n",
    "    axs[0].set_xlim(wavelength.min(), wavelength.max())\n",
    "    if ull_targ == 'v-xx-cha':\n",
    "        axs[0].set_ylim(-1E-15, 5E-14)\n",
    "        axs[1].set_ylim(-1E-15, 5E-15)\n",
    "    else:\n",
    "        # set the limit based on the preview-spec to avoid grating edges\n",
    "        axs[0].set_ylim(np.nanmin(flux), np.nanmax(flux)) \n",
    "        axs[1].set_ylim(np.nanmin(error), np.nanmax(error)) \n"
   ]
  },
  {
   "cell_type": "markdown",
   "metadata": {},
   "source": [
    "Like the above `cspec` figures, we can see here how the `aspec` files look compared to the `preview-spec` files. For XX Cha, there are two `aspec` files; one is made for the low resolution gratings, and one is made for the medium resolution gratings. For SK -67 167, there is only one `apec` file for the FUSE data. There is only one grating for the HST data (E140M), so the `cspec` file would be identical to the `aspec` file and therefore is not created again."
   ]
  },
  {
   "cell_type": "markdown",
   "metadata": {},
   "source": [
    "#### Non-Variable Provenance Table\n",
    "\n",
    "For each spectrum that contributes to a given HLSP, select metadata is available in the provenance table. The fields in the table are metadata harvested from the headers of the contributing spectra. Notice that we already used the \"DISPERSER\" column in the plot labels above to see all contributing gratings in that product."
   ]
  },
  {
   "cell_type": "code",
   "execution_count": null,
   "metadata": {},
   "outputs": [],
   "source": [
    "# Print the columns in the provenance extension, which is index 2\n",
    "print(spec_filename)\n",
    "with fits.open(spec_filename) as spec_hdu:\n",
    "    print(spec_hdu[2].columns)"
   ]
  },
  {
   "cell_type": "code",
   "execution_count": null,
   "metadata": {},
   "outputs": [],
   "source": [
    "# We'll use Astropy Tables to print out a few of the columns listed above in a neat way\n",
    "with fits.open(spec_filename) as spec_hdu:\n",
    "    prov_table = Table(spec_hdu[2].data)\n",
    "\n",
    "prov_table[['FILENAME', \n",
    "            'PROPOSID', \n",
    "            'INSTRUMENT', \n",
    "            'DETECTOR', \n",
    "            'DISPERSER', \n",
    "            'MJD_BEG', \n",
    "            'XPOSURE']]"
   ]
  },
  {
   "cell_type": "code",
   "execution_count": null,
   "metadata": {},
   "outputs": [],
   "source": [
    "# To print all columns use:\n",
    "prov_table"
   ]
  },
  {
   "cell_type": "code",
   "execution_count": null,
   "metadata": {},
   "outputs": [],
   "source": [
    "# Or to print a single column use:\n",
    "prov_table['FILENAME'].pprint()"
   ]
  },
  {
   "cell_type": "markdown",
   "metadata": {},
   "source": [
    "The provenance extension can be used to determine what individual exposures were included in a combined (`cspec`) or abuted (`aspec` or `preview-spec`) product. For example, let's find only the COS G130M exposures that were included in the level 4 (`preview-spec`) file."
   ]
  },
  {
   "cell_type": "code",
   "execution_count": null,
   "metadata": {},
   "outputs": [],
   "source": [
    "# Use the provenance extension to find filenames for COS G130M exposures\n",
    "prov_table[(prov_table[\"DISPERSER\"] == \"G130M\") & (prov_table[\"INSTRUMENT\"] == \"COS\")]"
   ]
  },
  {
   "cell_type": "markdown",
   "metadata": {},
   "source": [
    "<a id=\"tss\"></a>\n",
    "### Timeseries Spectra"
   ]
  },
  {
   "cell_type": "markdown",
   "metadata": {},
   "source": [
    "Spectroscopic time-series spectra (TSS) products are available for all T Tarui star (TTS) targets. These products are created from imaging data from the Las Cumbres Observatory (LCO) as well as HST spectroscopic data. The products available for each type of target and data are  summarized in the table below. Timeseries outputs are all level 5 data products.\n",
    "\n",
    "| Target         | Data    | TSS Type                        |\n",
    "| -------------- | ------- | ------------------------------- |\n",
    "| Survey TTS     | LCO     | Exposure level                  |\n",
    "| Survey TTS     | HST     | Exposure level                  |\n",
    "| Monitoring TTS | LCO     | Exposure level                  |\n",
    "| Monitoring TTS | HST     | Exposure and sub-exposure level |\n",
    "\n",
    "#### FITS File Structure\n",
    "\n",
    "Like the non-variable spectra, the TSS data and information is stored in two BINTABLE extensions:\n",
    "- a Science extension for the combined product, and\n",
    "- a matching Provenance extension to record attributes of each spectrum that contributed to the timeseries product\n",
    "\n",
    "Next, we'll download an exposure-level TSS file for the star TW Hydra made from LCO data."
   ]
  },
  {
   "cell_type": "code",
   "execution_count": null,
   "metadata": {},
   "outputs": [],
   "source": [
    "# Use curl to download a TSS data product for the target TW Hya\n",
    "!curl -L -X GET \"https://mast.stsci.edu/api/v0.1/Download/file?uri=mast%3AHLSP%2Fullyses%2Fv-tw-hya%2Fdr7%2Fhlsp_ullyses_lcogt_04m_v-tw-hya_uprime-v-iprime_dr7_tss.fits\" --output \"hlsp_ullyses_lcogt_04m_v-tw-hya_uprime-v-iprime_dr7_tss.fits\" --fail --create-dirs"
   ]
  },
  {
   "cell_type": "code",
   "execution_count": null,
   "metadata": {},
   "outputs": [],
   "source": [
    "!ls *tss*"
   ]
  },
  {
   "cell_type": "code",
   "execution_count": null,
   "metadata": {},
   "outputs": [],
   "source": [
    "# Create a variable to point to the file we just downloaded, then open the file, and print the HDU info\n",
    "exp_tss_filename = './hlsp_ullyses_lcogt_04m_v-tw-hya_uprime-v-iprime_dr7_tss.fits'\n",
    "exp_tss_file = Path(exp_tss_filename)\n",
    "exp_tss_hdu = fits.open(exp_tss_file)\n",
    "print(exp_tss_hdu.info())"
   ]
  },
  {
   "cell_type": "markdown",
   "metadata": {},
   "source": [
    "\\\n",
    "From the filename, `hlsp_ullyses_lcogt_04m_v-tw-hya_uprime-v-iprime_dr7_tss.fits`, we can see:\n",
    "- the telescope used is LCOGT (the former name for LCO)\n",
    "- the instrument used is the 0.4 meter\n",
    "- the target observed is v-tw-hya (aka TW Hydra)\n",
    "- the optical elements used are uprime, v, and iprime\n",
    "- this file was created for Data Release 7\n",
    "\n",
    "Now we'll look at the science and provenance extensions."
   ]
  },
  {
   "cell_type": "markdown",
   "metadata": {},
   "source": [
    "#### Time-series Spectra Science Table\n",
    "The TSS products have slightly different table columns compared to non-variable spectra. The FLUX and ERROR arrays are 2D arrays with wavelength increasing X, and time increasing along Y. The wavelength values for each column of the 2D data are stored in the WAVELENGTH array, while the MJDSTART and MJDEND columns store the start and end times for each row of the FLUX and ERROR arrays."
   ]
  },
  {
   "cell_type": "code",
   "execution_count": null,
   "metadata": {},
   "outputs": [],
   "source": [
    "# Print the columns in the science extension\n",
    "print(exp_tss_hdu[1].columns)\n",
    "\n",
    "# Print the shape of the FLUX array\n",
    "print('Number of time bins: {}'.format(exp_tss_hdu[1].data['FLUX'][0].shape[0]))\n",
    "print('Number of spectral bins: {}'.format(exp_tss_hdu[1].data['FLUX'][0].shape[1]))"
   ]
  },
  {
   "cell_type": "markdown",
   "metadata": {},
   "source": [
    "**A note about the LCO observations** \\\n",
    "LCO images are taken over four epochs, each consisting of daily observations over 10-day intervals. In addition, 15-minute cadence observations are also taken during the HST observations. \n",
    "\n",
    "For each daily observation, back-to-back images are taken in the applicable filters for the star type. Monitoring stars use SDSS u’ and i’ filters and the Bessel V filter, while survey stars only use the i’ and V filters.\n",
    "\n",
    "Because the LCO imaging data is only observed in 2 or 3 different bandpasses, these data files will have only 2 or 3 wavelength bins, with the wavelength entries corresponding to the central wavelength of each filter."
   ]
  },
  {
   "cell_type": "code",
   "execution_count": null,
   "metadata": {},
   "outputs": [],
   "source": [
    "wavelength = exp_tss_hdu[1].data['WAVELENGTH'][0]\n",
    "print(wavelength)"
   ]
  },
  {
   "cell_type": "code",
   "execution_count": null,
   "metadata": {},
   "outputs": [],
   "source": [
    "flux = exp_tss_hdu[1].data['FLUX'][0]\n",
    "print(flux)"
   ]
  },
  {
   "cell_type": "code",
   "execution_count": null,
   "metadata": {},
   "outputs": [],
   "source": [
    "# separate the fluxes for each wavelength using a list comprehesion\n",
    "\n",
    "flux_wave1 = np.array([x[0] for x in flux])   # this selects the first entry in each row, which is the flux at the first wavelength bin\n",
    "flux_wave2 = np.array([x[1] for x in flux]) \n",
    "flux_wave3 = np.array([x[2] for x in flux])"
   ]
  },
  {
   "cell_type": "code",
   "execution_count": null,
   "metadata": {},
   "outputs": [],
   "source": [
    "# Now, plot the flux vs time for each wavelength bin\n",
    "\n",
    "# Make a variable 'time' for the MDJ start time\n",
    "time = exp_tss_hdu[1].data['MJDSTART'][0]\n",
    "\n",
    "# Filter out the data points that have 0 flux \n",
    "filter1 = np.where(flux_wave1 != 0.0)[0]\n",
    "filter2 = np.where(flux_wave2 != 0.0)[0]\n",
    "filter3 = np.where(flux_wave3 != 0.0)[0]\n",
    "\n",
    "# Set up the plot\n",
    "fig = plt.figure()\n",
    "\n",
    "plt.scatter(time[filter1], flux_wave1[filter1], label=r'$\\lambda$={}'.format(wavelength[0]))\n",
    "plt.scatter(time[filter2], flux_wave2[filter2], label=r'$\\lambda$={}'.format(wavelength[1]))\n",
    "plt.scatter(time[filter3], flux_wave2[filter3], label=r'$\\lambda$={}'.format(wavelength[2]))\n",
    "\n",
    "# Set up the x ticks\n",
    "mjdticks = np.linspace(time[0], time[-1], 7)\n",
    "yyyymmdd_date = [Time(t, format='mjd').isot.split('T')[0] for t in mjdticks]    # the split after the 'T' selects the date only\n",
    "plt.xticks(mjdticks, yyyymmdd_date)\n",
    "\n",
    "plt.title('TW Hydra LCO Timeseries')\n",
    "plt.ylabel('Flux\\n[ergs/s/cm^2/$\\mathrm{\\AA}$]')\n",
    "plt.xlabel('Exposure Date')\n",
    "plt.legend()  \n",
    "plt.show()"
   ]
  },
  {
   "cell_type": "markdown",
   "metadata": {},
   "source": [
    "#### Time-series Spectra Provenance Table\n",
    "Select metadata for each spectrum that contributes to the time-series product will populate a row in the provenance table. The fields in the table are metadata harvested from the headers of the contributing spectra. Some columns are only present for HST data or LCO data."
   ]
  },
  {
   "cell_type": "code",
   "execution_count": null,
   "metadata": {},
   "outputs": [],
   "source": [
    "# Print the columns in the provenance extension\n",
    "print(exp_tss_hdu[2].columns)"
   ]
  },
  {
   "cell_type": "code",
   "execution_count": null,
   "metadata": {
    "scrolled": true
   },
   "outputs": [],
   "source": [
    "# We'll use Astropy Tables to make it print out a few of the columns listed above in a neat way\n",
    "prov_table = Table(exp_tss_hdu[2].data)\n",
    "\n",
    "# Print out the provenance data\n",
    "prov_table[['FILENAME',\n",
    "            'PROPOSID', \n",
    "            'INSTRUMENT', \n",
    "            'DETECTOR', \n",
    "            'FILTER', \n",
    "            'MJD_MID', \n",
    "            'XPOSURE']]"
   ]
  },
  {
   "cell_type": "code",
   "execution_count": null,
   "metadata": {},
   "outputs": [],
   "source": [
    "# Be sure to close the HDU when we are finished exploring!\n",
    "exp_tss_hdu.close()"
   ]
  },
  {
   "cell_type": "markdown",
   "metadata": {},
   "source": [
    "#### Sub-exposure level TTS Data Product Example\n",
    "\n",
    "Next let's check out the sub-exposure level TTS file for TW Hydra."
   ]
  },
  {
   "cell_type": "code",
   "execution_count": null,
   "metadata": {},
   "outputs": [],
   "source": [
    "# Use curl to download a TSS data product for the target\n",
    "!curl -L -X GET \"https://mast.stsci.edu/api/v0.1/Download/file?uri=mast%3AHLSP%2Fullyses%2Fv-tw-hya%2Fdr7%2Fhlsp_ullyses_hst_cos_v-tw-hya_g160m_dr7_split-tss.fits\" --output \"hlsp_ullyses_hst_cos_v-tw-hya_g160m_dr7_split-tss.fits\" --fail --create-dirs"
   ]
  },
  {
   "cell_type": "code",
   "execution_count": null,
   "metadata": {},
   "outputs": [],
   "source": [
    "# Create a variable to point to the file we just downloaded, then open the file, and print the HDU info\n",
    "subexp_tss_filename = './hlsp_ullyses_hst_cos_v-tw-hya_g160m_dr7_split-tss.fits'\n",
    "subexp_tss_file = Path(subexp_tss_filename)\n",
    "subexp_tss_hdu = fits.open(subexp_tss_file)\n",
    "print(subexp_tss_hdu.info())"
   ]
  },
  {
   "cell_type": "markdown",
   "metadata": {},
   "source": [
    "\\\n",
    "From the filename, `hlsp_ullyses_hst_cos_v-tw-hya_g160m_dr7_split-tss.fits`, we can see:\n",
    "- the telescope used is HST\n",
    "- the instrument used is COS\n",
    "- the target observed is v-tw-hya (aka TW Hydra)\n",
    "- the optical element is G160M\n",
    "- this file was created for Data Release 7\n",
    "\n",
    "Now we'll look at the science and provenance extensions."
   ]
  },
  {
   "cell_type": "code",
   "execution_count": null,
   "metadata": {},
   "outputs": [],
   "source": [
    "# Print the columns in the science extension\n",
    "print(subexp_tss_hdu[1].columns)\n",
    "\n",
    "# Print the shape of the FLUX array\n",
    "print('Number of time bins: {}'.format(subexp_tss_hdu[1].data['FLUX'][0].shape[0]))\n",
    "print('Number of spectral bins: {}'.format(subexp_tss_hdu[1].data['FLUX'][0].shape[1]))"
   ]
  },
  {
   "cell_type": "code",
   "execution_count": null,
   "metadata": {},
   "outputs": [],
   "source": [
    "# Print the columns in the provenance extension\n",
    "print(subexp_tss_hdu[2].columns)"
   ]
  },
  {
   "cell_type": "code",
   "execution_count": null,
   "metadata": {},
   "outputs": [],
   "source": [
    "# We'll use Astropy Tables to make it print out a few of the columns listed above in a neat way\n",
    "\n",
    "prov_table = Table(subexp_tss_hdu[2].data)\n",
    "\n",
    "# Use pprint to print out the provenance data\n",
    "prov_table[['FILENAME',\n",
    "            'PROPOSID',\n",
    "            'INSTRUMENT', \n",
    "            'DETECTOR', \n",
    "            'CENWAVE', \n",
    "            'XPOSURE',\n",
    "            'MJD_MID']]"
   ]
  },
  {
   "cell_type": "code",
   "execution_count": null,
   "metadata": {},
   "outputs": [],
   "source": [
    "fig = plt.figure()\n",
    "\n",
    "# Make useful variable names for the pertinent columns in the file\n",
    "flux = subexp_tss_hdu[1].data['flux'][0]\n",
    "wavelength = subexp_tss_hdu[1].data['wavelength'][0]\n",
    "mjdstart = [Time(t, format='mjd').isot for t in subexp_tss_hdu[1].data['mjdstart'][0]]\n",
    "mjdend = [Time(t, format='mjd').isot for t in subexp_tss_hdu[1].data['mjdend'][0]]\n",
    "\n",
    "# Since there are 720 time bins, we pick some random indices and plot the spectra corresponding to those times\n",
    "indices = [0, 200, 400, 600, 719]\n",
    "for i, ind in enumerate(indices):\n",
    "    plt.plot(wavelength, flux[ind], label=f'index={ind}, {mjdstart[ind]}', alpha=0.7, lw=2)\n",
    "plt.legend()\n",
    "plt.xlabel('Wavelength [$\\mathrm{\\AA}$]')\n",
    "plt.ylabel('Flux\\n[ergs/s/cm^2/$\\mathrm{\\AA}$]')\n",
    "plt.title('TW Hydra Spectral Time Series')\n",
    "plt.xlim(1540, 1560)    # This zooms us in at CIV\n",
    "plt.ylim(-0.1e-12, 2.2e-12)"
   ]
  },
  {
   "cell_type": "markdown",
   "metadata": {},
   "source": [
    "Let's make one more plot of this data, looking over a shorter time scale now (~a day). We'll only change the `indices` list."
   ]
  },
  {
   "cell_type": "code",
   "execution_count": null,
   "metadata": {},
   "outputs": [],
   "source": [
    "fig = plt.figure()\n",
    "\n",
    "# Make useful variable names for the pertinent columns in the file\n",
    "flux = subexp_tss_hdu[1].data['flux'][0]\n",
    "wavelength = subexp_tss_hdu[1].data['wavelength'][0]\n",
    "mjdstart = [Time(t, format='mjd').isot for t in subexp_tss_hdu[1].data['mjdstart'][0]]\n",
    "mjdend = [Time(t, format='mjd').isot for t in subexp_tss_hdu[1].data['mjdend'][0]]\n",
    "\n",
    "indices = np.arange(190, 250, 10)\n",
    "for i, ind in enumerate(indices):\n",
    "    plt.plot(wavelength, flux[ind], label=f'index={ind}, {mjdstart[ind]}', alpha=0.7, lw=2)\n",
    "plt.legend()\n",
    "plt.xlabel('Wavelength [$\\mathrm{\\AA}$]')\n",
    "plt.ylabel('Flux\\n[ergs/s/cm^2/$\\mathrm{\\AA}$]')\n",
    "plt.title('TW Hydra Spectral Time Series')\n",
    "plt.xlim(1540, 1560)\n",
    "plt.ylim(-0.1e-12, 2.2e-12)"
   ]
  },
  {
   "cell_type": "code",
   "execution_count": null,
   "metadata": {},
   "outputs": [],
   "source": [
    "# Be sure to close the HDU when we are finished exploring!\n",
    "subexp_tss_hdu.close()"
   ]
  },
  {
   "cell_type": "markdown",
   "metadata": {},
   "source": [
    "<a id=\"drizzle\"></a>\n",
    "### WFC3 Drizzled Images\n",
    "\n",
    "Drizzled data products are available for NGC3109 and Sextans A, which were taken before the spectroscopic observations in order to estimate exposure times. These are level 6 data products."
   ]
  },
  {
   "cell_type": "markdown",
   "metadata": {},
   "source": [
    "#### FITS File Structure\n",
    "\n",
    "Drizzled and weight images are stored in two IMAGEHDU extensions, and PROVENANCE information stored in a BINTABLE extension:\n",
    "- a Science extension for the drizzled science image\n",
    "- a Weight extension for the weight map image\n",
    "- a matching Provenance extension to record attributes of each image that contributed to the combined product\n",
    "\n",
    "Last, we'll explore a drizzled image of Sextans A observed with WFC3 with the F336W filter."
   ]
  },
  {
   "cell_type": "code",
   "execution_count": null,
   "metadata": {},
   "outputs": [],
   "source": [
    "# Download the data product\n",
    "!curl -L -X GET \"https://mast.stsci.edu/api/v0.1/Download/file?uri=mast%3AHLSP%2Fullyses%2Fsextans-a%2Fdr7%2Fhlsp_ullyses_hst_wfc3_sextans-a_f336w_dr7_drc.fits\" --output \"hlsp_ullyses_hst_wfc3_sextans-a_f336w_dr7_drc.fits\" --fail --create-dirs"
   ]
  },
  {
   "cell_type": "code",
   "execution_count": null,
   "metadata": {},
   "outputs": [],
   "source": [
    "# Create a variable to point to the file we just downloaded, open the file, and print the HDU info\n",
    "drz_file = Path('./hlsp_ullyses_hst_wfc3_sextans-a_f336w_dr7_drc.fits')\n",
    "drz_hdu = fits.open(drz_file)\n",
    "print(drz_hdu.info())"
   ]
  },
  {
   "cell_type": "markdown",
   "metadata": {},
   "source": [
    "\\\n",
    "From the filename, `hlsp_ullyses_hst_wfc3_sextans-a_f336w_dr7_drc.fits`, we can see:\n",
    "- the telescope used is HST\n",
    "- the instrument used is WFC3\n",
    "- the target observed is Sextans A\n",
    "- the optical element is F336W\n",
    "- this file was created for Data Release 7\n",
    "\n",
    "Now we'll look at the science, weight, and provenance extensions."
   ]
  },
  {
   "cell_type": "markdown",
   "metadata": {},
   "source": [
    "#### Drizzled Image Science Extension\n",
    "\n",
    "This extension is an image array that contains the drizzled image data."
   ]
  },
  {
   "cell_type": "code",
   "execution_count": null,
   "metadata": {},
   "outputs": [],
   "source": [
    "# Print the size of the drizzled image that's in the science extension\n",
    "print(drz_hdu[1].shape)"
   ]
  },
  {
   "cell_type": "code",
   "execution_count": null,
   "metadata": {},
   "outputs": [],
   "source": [
    "# Plot the drizzled image\n",
    "fig = plt.figure()\n",
    "drz_data = drz_hdu[1].data\n",
    "wcs = WCS(drz_hdu[1].header)  # this creates a WCS object from the image header coordinate information\n",
    "\n",
    "plt.subplot(projection=wcs)\n",
    "plt.imshow(drz_data, vmin=0, vmax=0.015)\n",
    "\n",
    "plt.title('Sextans A - F336W')\n",
    "plt.grid(color='white', ls=':', alpha=0.7)\n",
    "plt.xlabel('Right Ascension')\n",
    "plt.ylabel('Declination')\n",
    "plt.show()"
   ]
  },
  {
   "cell_type": "markdown",
   "metadata": {},
   "source": [
    "#### Drizzled Image Weight Map Extension\n",
    "\n",
    "This extension is another image array that contains the weight map data. The weight image contains information about bad pixels in the image, in that bad pixels result in lower weight values."
   ]
  },
  {
   "cell_type": "code",
   "execution_count": null,
   "metadata": {},
   "outputs": [],
   "source": [
    "# Print the size of the weight map, which is the second extension. This should be the same as the drizzled image\n",
    "print(drz_hdu[2].shape)"
   ]
  },
  {
   "cell_type": "code",
   "execution_count": null,
   "metadata": {},
   "outputs": [],
   "source": [
    "# Plot the weight map\n",
    "fig = plt.figure()\n",
    "wgt_data = drz_hdu[2].data\n",
    "wcs = WCS(drz_hdu[2].header)\n",
    "\n",
    "plt.subplot(projection=wcs)\n",
    "plt.imshow(wgt_data, vmin=0, vmax=900)\n",
    "\n",
    "plt.title('Sextans A - F336W - weight map')\n",
    "plt.grid(color='white', ls=':')\n",
    "plt.xlabel('Right Ascension')\n",
    "plt.ylabel('Declination')\n",
    "plt.show()"
   ]
  },
  {
   "cell_type": "markdown",
   "metadata": {},
   "source": [
    "#### Drizzled Image Provenance Table\n",
    "\n",
    "Select metadata for each image that contributes to the drizzled image in will populate a row in the provenance table. The fields in the  table are metadata harvested from the headers of the contributing images."
   ]
  },
  {
   "cell_type": "code",
   "execution_count": null,
   "metadata": {},
   "outputs": [],
   "source": [
    "# Print the columns in the provenance extension\n",
    "print(drz_hdu[3].columns)"
   ]
  },
  {
   "cell_type": "code",
   "execution_count": null,
   "metadata": {},
   "outputs": [],
   "source": [
    "# We'll again use Astropy Tables to make it print out a few of the columns listed above in a neat way\n",
    "\n",
    "prov_table = Table(drz_hdu[3].data)\n",
    "\n",
    "prov_table[['FILENAME', \n",
    "            'PROPOSID',\n",
    "            'INSTRUMENT',\n",
    "            'DETECTOR', \n",
    "            'FILTER',\n",
    "            'APERTURE',\n",
    "            'XPOSURE']]"
   ]
  },
  {
   "cell_type": "code",
   "execution_count": null,
   "metadata": {},
   "outputs": [],
   "source": [
    "# Close the DRZ HDU!\n",
    "drz_hdu.close()"
   ]
  },
  {
   "cell_type": "markdown",
   "metadata": {},
   "source": [
    "***"
   ]
  },
  {
   "cell_type": "markdown",
   "metadata": {},
   "source": [
    "## Additional Resources\n",
    "\n",
    "- [ULLYSES](https://ullyses.stsci.edu)\n",
    "- [MAST API](https://mast.stsci.edu/api/v0/index.html)"
   ]
  },
  {
   "cell_type": "markdown",
   "metadata": {
    "slideshow": {
     "slide_type": "slide"
    }
   },
   "source": [
    "## About this Notebook\n",
    "For support, contact us at the [ULLYSES Helpdesk](https://stsci.service-now.com/hst?id=sc_cat_item&sys_id=a3b8ec5edbb7985033b55dd5ce961990&sysparm_category=ac85189bdb4683c033b55dd5ce96199c).\n",
    "\n",
    "**Authors:**  Elaine Frazer, Rachel Plesha \\\n",
    "**Updated On:** March 11, 2024"
   ]
  },
  {
   "cell_type": "markdown",
   "metadata": {},
   "source": [
    "## Citations\n",
    "* See the [ULLYSES website](https://ullyses.stsci.edu/ullyses-cite.html) for citation guidelines.\n"
   ]
  },
  {
   "cell_type": "markdown",
   "metadata": {},
   "source": [
    "***"
   ]
  },
  {
   "cell_type": "markdown",
   "metadata": {},
   "source": [
    "[Top of Page](#top)\n",
    "<img style=\"float: right;\" src=\"https://raw.githubusercontent.com/spacetelescope/notebooks/master/assets/stsci_pri_combo_mark_horizonal_white_bkgd.png\" alt=\"Space Telescope Logo\" width=\"200px\"/> "
   ]
  }
 ],
 "metadata": {
  "kernelspec": {
   "display_name": "Python 3 (ipykernel)",
   "language": "python",
   "name": "python3"
  },
  "language_info": {
   "codemirror_mode": {
    "name": "ipython",
    "version": 3
   },
   "file_extension": ".py",
   "mimetype": "text/x-python",
   "name": "python",
   "nbconvert_exporter": "python",
   "pygments_lexer": "ipython3",
   "version": "3.9.18"
  }
 },
 "nbformat": 4,
 "nbformat_minor": 4
}
