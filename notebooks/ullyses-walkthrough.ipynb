{
 "cells": [
  {
   "cell_type": "markdown",
   "metadata": {
    "slideshow": {
     "slide_type": "slide"
    }
   },
   "source": [
    "<a id=\"top\"></a>\n",
    "# ULLYSES Data Walkthrough Notebook"
   ]
  },
  {
   "cell_type": "markdown",
   "metadata": {
    "slideshow": {
     "slide_type": "skip"
    }
   },
   "source": [
    "***"
   ]
  },
  {
   "cell_type": "markdown",
   "metadata": {},
   "source": [
    "## Learning Goals\n",
    "\n",
    "By the end of this tutorial, you will:\n",
    "\n",
    "- Know the different types of high level science products (HLSPs) offered by the ULLYSES team.\n",
    "- Be able to open each file and view its contents and metadata.\n",
    "- Understand how to use each type of HSLP."
   ]
  },
  {
   "cell_type": "markdown",
   "metadata": {},
   "source": [
    "## Table of Contents\n",
    "**0. [Introduction](#introduction)**\n",
    "\n",
    "**1. [HLSP Descriptions and Filename Convention](#hlspdescrip)**\n",
    "\n",
    "**2. [HLSP File Exploration](#hlspformats)**\n",
    "\n",
    "\\- 2.1 [Single-epoch Spectra](#single)\n",
    "\n",
    "\\- 2.2 [Time-series Spectra](#tss)\n",
    "\n",
    "\\- 2.3 [WFC3 Drizzled Images](#drizzle)"
   ]
  },
  {
   "cell_type": "markdown",
   "metadata": {
    "slideshow": {
     "slide_type": "slide"
    }
   },
   "source": [
    "<a id=\"introduction\"></a>\n",
    "## Introduction\n",
    "\n",
    "The Hubble Space Telescope’s (HST) Ultraviolet Legacy Library of Young Stars as Essential Standards ([ULLYSES](https://ullyses.stsci.edu/index.html) program has devoted approximately 1,000 HST orbits to the production of an ultraviolet spectroscopic library of young high- and low-mass stars in the local universe. This Director’s Discretionary program was designed to take advantage of HST’s unique UV capabilities, as both high- and low-mass stars feature different complex UV emission processes that strongly impact their surroundings, but are difficult to model. The UV emission from star formation is central to a wide range of vital astrophysical issues, ranging from cosmic reionization to the formation of planets.\n",
    "\n",
    "The ULLYSES program uniformly sampled the fundamental astrophysical parameter space for each mass regime — including spectral type, luminosity class, and metallicity for massive OB stars (in the Magellanic Clouds and two other lower-metallicity nearby galaxies) and the mass, age, and disk accretion rate for low-mass T Tauri stars (in eight young Galactic associations). The data were gathered over a three-year period, from Cycle 27 through Cycle 29 (2020-2022). The design and targets of these observations were determined in partnership with the astronomical community, allowing researchers from around the world to help develop the final program and to plan coordinated observations with other space- and ground-based telescopes.\n",
    "\n",
    "The ULLYSES team produces several types of High Level Science Products (HLSPs), which we will walk through in this notebook. Products are made using both archival data and new HST observations obtained through the ULLYSES program. Data products are available from the [ULLYSES website](https://ullyses.stsci.edu/ullyses-download.html) (HLSPs and contributing data), the [MAST Data Discovery Portal](https://mast.stsci.edu/) (HLSPs and contributing data), or directly as a High-Level Science Product collection using the [DOI](https://archive.stsci.edu/hlsp/ullyses) (HLSPs only)."
   ]
  },
  {
   "cell_type": "markdown",
   "metadata": {
    "slideshow": {
     "slide_type": "slide"
    }
   },
   "source": [
    "### Imports\n",
    "- *numpy* to handle array functions\n",
    "- *astropy.io fits* for accessing FITS files\n",
    "- *astroy.wcs WCS* to create world coordinate system objects for plotting WFC3 images\n",
    "- *astropy.table Table* for creating tidy tables of the data\n",
    "- *matplotlib.pyplot* for plotting data\n",
    "- *%matplotlib widget* enables interactive plotting - install using `pip install ipympl`\n",
    "- *os* to interact with the operating system\n",
    "- *Path* to create product and data directories\n",
    "- *shutil* to perform directory and file operations"
   ]
  },
  {
   "cell_type": "code",
   "execution_count": null,
   "metadata": {
    "slideshow": {
     "slide_type": "fragment"
    }
   },
   "outputs": [],
   "source": [
    "import numpy as np\n",
    "from astropy.io import fits\n",
    "from astropy.wcs import WCS\n",
    "from astropy.table import Table\n",
    "import matplotlib.pyplot as plt\n",
    "%matplotlib widget\n",
    "plt.rcParams['figure.figsize'] = 10, 6\n",
    "plt.style.use('seaborn-v0_8-colorblind')\n",
    "import os\n",
    "from pathlib import Path\n",
    "import shutil"
   ]
  },
  {
   "cell_type": "markdown",
   "metadata": {},
   "source": [
    "***"
   ]
  },
  {
   "cell_type": "markdown",
   "metadata": {},
   "source": [
    "<a id=\"hlspdescrip\"></a>\n",
    "## HLSP Descriptions and Filename Convention"
   ]
  },
  {
   "cell_type": "markdown",
   "metadata": {},
   "source": [
    "The file names for ULLYSES science data products follow a naming scheme which encodes the target designation and the instruments and observing configuration(s) that contribute to the product. However, not all products will appear in the early releases. File names have the form:\n",
    "\n",
    "`hlsp_ullyses_<telescope>_<instrument>_<target>_<opt_elem>_<version>_<product-type>`\n",
    "\n",
    "where\n",
    "\n",
    "`<target>` is the target name\n",
    "`<version>` is the data release identifier (dr1, dr2, etc.)\n",
    "\n",
    "The `<telescope>`, `<instrument>`, `<opt_elem>`, and `<product-type>` templates take names from the following table:"
   ]
  },
  {
   "cell_type": "markdown",
   "metadata": {},
   "source": [
    "| Description                                                                                                  | Telescope | Instrument    | Opt-Elem                                        | Product-Type      | Level |\n",
    "|--------------------------------------------------------------------------------------------------------------|-----------|---------------|-------------------------------------------------|-------------------|-------|\n",
    "| Custom calibrated STIS 1D spectra                                                                            | hst       | stis          | g230l, g430l, or g750l                             | spec.fits         | 0     |\n",
    "| STIS custom calibration parameter files                                                                      | hst       | stis          | g230l, g430l, or g750l                             | spec.yaml         | 0     |\n",
    "| STIS echelle single grating, where the orders have been extracted and merged.                                | hst       | stis          | e140l, e230h, e140m, or e230m                      | mspec.fits        | 1     |\n",
    "| Combined spectra, with common instrument and  grating, and in some cases with different cenwave settings.    | hst       | cos           | g130m, g160m, g185m, or g230l                      | cpsec.fits        | 2     |\n",
    "|                                                                                                              |           | stis          | e140l, e230h, e140m, e230m, g230l, g430l, or g750l |                   |       |\n",
    "| Combined spectra, with common instrument, different gratings and cenwave settings, and grouped by resolution | fuse      | fuv           | lwrs or mdrs                                    | cspec.fits        | 3     |\n",
    "|                                                                                                              | hst       | cos           | g130m-g160m-g185m                               |                   |       |\n",
    "|                                                                                                              |           | stis          | e140h-e230h, g140m-e230m or g230l-g430l-g750l |                   |       |\n",
    "| All instruments and settings abutted together*                                                               | hst       | cos-stis      | uv or uv-opt                                    | preview-spec.fits | 4     |\n",
    "|                                                                                                              | hst-fuse  | fuse-cos-stis | uv-opt                                          |                   |       |\n",
    "| Exposure-level time-series spectra                                                                           | hst       | cos           | g130m or g160m                                    | tss.fits          | 5     |\n",
    "|                                                                                                              | lcogt     | 04m           | v-ip                                            |                   |       |\n",
    "| Subexposure-level time-series spectra                                                                        | hst       | cos           | g130m or g160m                                    | split-tss.fits    | 5     |\n",
    "| WFC3 drizzled images                                                                                         | hst       | wfc3          | f225w, f275w, f336w, f475w or f814w               | drc.fits          | 6     |"
   ]
  },
  {
   "cell_type": "markdown",
   "metadata": {},
   "source": [
    "***"
   ]
  },
  {
   "cell_type": "markdown",
   "metadata": {},
   "source": [
    "<a id=\"hlspformats\"></a>\n",
    "## HLSP File Formats"
   ]
  },
  {
   "cell_type": "markdown",
   "metadata": {},
   "source": [
    "Most High Level Science Products are in FITS format. The organization of each FITS file depends on the HLSP type. There are three broad categories of HLSPs: single-epoch spectra, time-series spectra, and drizzled images."
   ]
  },
  {
   "cell_type": "markdown",
   "metadata": {},
   "source": [
    "<a id=\"single\"></a>\n",
    "### Single Epoch Spectra"
   ]
  },
  {
   "cell_type": "markdown",
   "metadata": {},
   "source": [
    "#### FITS File Structure\n",
    "\n",
    "Spectral data and information is stored in two BINTABLE extensions:\n",
    "- a Science extension for the combined product, and\n",
    "- a matching Provenance extension to record attributes of each spectrum that contributed to the combined product\n",
    "\n",
    "Let's start by downloading the available data products for a target taken in a single epoch and look around."
   ]
  },
  {
   "cell_type": "code",
   "execution_count": null,
   "metadata": {},
   "outputs": [],
   "source": [
    "# Use curl to download the files -- these are the level 2, 3, and 4 data products for the target SK-67 195\n",
    "!curl -L -X GET \"https://mast.stsci.edu/api/v0.1/Download/file?uri=mast%3AHLSP%2Fullyses%2Fsk-67d195%2Fdr6%2Fhlsp_ullyses_hst_cos-stis_sk-67d195_uv_dr6_preview-spec.fits\" --output \"hlsp_ullyses_hst_cos-stis_sk-67d195_uv_dr6_preview-spec.fits\" --fail --create-dirs\n",
    "\n",
    "!curl -L -X GET \"https://mast.stsci.edu/api/v0.1/Download/file?uri=mast%3AHLSP%2Fullyses%2Fsk-67d195%2Fdr6%2Fhlsp_ullyses_hst_cos_sk-67d195_g130m-g160m-g185m_dr6_cspec.fits\" --output \"hlsp_ullyses_hst_cos_sk-67d195_g130m-g160m-g185m_dr6_cspec.fits\" --fail --create-dirs\n",
    "\n",
    "!curl -L -X GET \"https://mast.stsci.edu/api/v0.1/Download/file?uri=mast%3AHLSP%2Fullyses%2Fsk-67d195%2Fdr6%2Fhlsp_ullyses_hst_cos_sk-67d195_g130m_dr6_cspec.fits\" --output \"hlsp_ullyses_hst_cos_sk-67d195_g130m_dr6_cspec.fits\" --fail --create-dirs\n",
    "\n",
    "!curl -L -X GET \"https://mast.stsci.edu/api/v0.1/Download/file?uri=mast%3AHLSP%2Fullyses%2Fsk-67d195%2Fdr6%2Fhlsp_ullyses_hst_cos_sk-67d195_g160m_dr6_cspec.fits\" --output \"hlsp_ullyses_hst_cos_sk-67d195_g160m_dr6_cspec.fits\" --fail --create-dirs\n",
    "\n",
    "!curl -L -X GET \"https://mast.stsci.edu/api/v0.1/Download/file?uri=mast%3AHLSP%2Fullyses%2Fsk-67d195%2Fdr6%2Fhlsp_ullyses_hst_cos_sk-67d195_g185m_dr6_cspec.fits\" --output \"hlsp_ullyses_hst_cos_sk-67d195_g185m_dr6_cspec.fits\" --fail --create-dirs\n",
    "\n",
    "!curl -L -X GET \"https://mast.stsci.edu/api/v0.1/Download/file?uri=mast%3AHLSP%2Fullyses%2Fsk-67d195%2Fdr6%2Fhlsp_ullyses_hst_stis_sk-67d195_e230m_dr6_cspec.fits\" --output \"hlsp_ullyses_hst_stis_sk-67d195_e230m_dr6_cspec.fits\" --fail --create-dirs"
   ]
  },
  {
   "cell_type": "markdown",
   "metadata": {},
   "source": [
    "\\\n",
    "Six datasets were just downloaded. They include:\n",
    "\n",
    "Level 2\n",
    "- hlsp_ullyses_hst_cos_sk-67d195_g130m_dr6_cspec.fits\n",
    "- hlsp_ullyses_hst_cos_sk-67d195_g160m_dr6_cspec.fits\n",
    "- hlsp_ullyses_hst_cos_sk-67d195_g185m_dr6_cspec.fits\n",
    "- hlsp_ullyses_hst_stis_sk-67d195_e230m_dr6_cspec.fits\n",
    "\n",
    "Level 3\n",
    "- hlsp_ullyses_hst_cos_sk-67d195_g130m-g160m-g185m_dr6_cspec.fits\n",
    "\n",
    "Level 4\n",
    "- hlsp_ullyses_hst_cos-stis_sk-67d195_uv_dr6_preview-spec.fits\n",
    "\n",
    "We will first go through the level 4 file, which is the data product with all instruments and settings abutted together."
   ]
  },
  {
   "cell_type": "code",
   "execution_count": null,
   "metadata": {},
   "outputs": [],
   "source": [
    "# Create a variable to point to the file we just downloaded\n",
    "spec_file = Path('./hlsp_ullyses_hst_cos-stis_sk-67d195_uv_dr6_preview-spec.fits')\n",
    "\n",
    "# Use Astropy.fits to open the fits file and create a header data unit (HDU)\n",
    "# More info on fits files and HDUs can be found at: https://docs.astropy.org/en/stable/io/fits/\n",
    "spec_hdu = fits.open(spec_file)\n",
    "\n",
    "# Print out some information about the format and data in this HDU\n",
    "print(spec_hdu.info())"
   ]
  },
  {
   "cell_type": "markdown",
   "metadata": {},
   "source": [
    "\\\n",
    "From the filename, we can see:\n",
    "- the telescope used is HST\n",
    "- the instrument used are COS and STIS\n",
    "- the optical element is UV (in this case, many optical elements made up this data product)\n",
    "- this file was created for data release 6\n",
    "\n",
    "Now we'll look at the science and provenance extensions."
   ]
  },
  {
   "cell_type": "markdown",
   "metadata": {},
   "source": [
    "#### Single-epoch Science Table\n",
    "\n",
    "Various elements of a single spectrum of M wavelength bins are stored in a single table row; each element is stored in a separate field (i.e., column). The table extension headers also contain informative metadata."
   ]
  },
  {
   "cell_type": "code",
   "execution_count": null,
   "metadata": {},
   "outputs": [],
   "source": [
    "# Print the columns in the science extension of the HDU - the science extension is index 1\n",
    "print(spec_hdu[1].columns)"
   ]
  },
  {
   "cell_type": "code",
   "execution_count": null,
   "metadata": {},
   "outputs": [],
   "source": [
    "# Now let's plot the flux, error, wavelength, and SNR for this dataset\n",
    "# To get these values we use \".data\" to access the data in the science extension of the HDU\n",
    "# To access the header of this extension instead, we would use \".header\"\n",
    "\n",
    "wavelength = spec_hdu[1].data['WAVELENGTH'][0]\n",
    "flux = spec_hdu[1].data['FLUX'][0]\n",
    "snr = spec_hdu[1].data['SNR'][0]\n",
    "error = spec_hdu[1].data['ERROR'][0]\n",
    "\n",
    "# Set up a quick function to bin the spectra\n",
    "def downsample_1d(myarr,factor):\n",
    "    \"\"\"\n",
    "    Downsample a 1D array by averaging over *factor* pixels.\n",
    "    Crops right side if the shape is not a multiple of factor.\n",
    "    Got this specific function from \"Adam Ginsburg's python codes\" on agpy\n",
    "\n",
    "    myarr : numpy array\n",
    "\n",
    "    factor : how much you want to rebin the array by\n",
    "    \"\"\"\n",
    "    xs = myarr.shape[0]\n",
    "    crarr = myarr[:xs-(xs % int(factor))]\n",
    "    dsarr = np.mean(np.concatenate(\n",
    "                     [[crarr[i::factor] for i in range(factor)]]\n",
    "                     ), axis=0)\n",
    "\n",
    "    return dsarr\n",
    "\n",
    "# Set up the plot\n",
    "fig = plt.figure()\n",
    "gs = fig.add_gridspec(3, hspace=0)\n",
    "axs = gs.subplots(sharex=True, sharey=False)\n",
    "axs[0].plot(downsample_1d(wavelength, 10), downsample_1d(flux, 10))\n",
    "axs[1].plot(downsample_1d(wavelength, 10), downsample_1d(error, 10))\n",
    "axs[2].plot(downsample_1d(wavelength, 10), downsample_1d(snr, 10))\n",
    "\n",
    "plt.suptitle('SK-67 195 Single Epoch COS+STIS Abutted Data Product')\n",
    "axs[0].set_ylabel('Flux')\n",
    "axs[1].set_ylabel('Error')\n",
    "axs[2].set_ylabel('SNR')\n",
    "plt.xlabel('Wavelength')\n",
    "            \n",
    "plt.show()"
   ]
  },
  {
   "cell_type": "markdown",
   "metadata": {},
   "source": [
    "#### Single-epoch Provenance Table\n",
    "\n",
    "Select metadata for each spectrum that contributes to the combined spectrum in the SCIENCE extension will populate a row in the provenance table. The fields in the table are metadata harvested from the headers of the contributing spectra."
   ]
  },
  {
   "cell_type": "code",
   "execution_count": null,
   "metadata": {},
   "outputs": [],
   "source": [
    "# Print the columns in the provenance extension, which is index 2\n",
    "print(spec_hdu[2].columns)"
   ]
  },
  {
   "cell_type": "code",
   "execution_count": null,
   "metadata": {},
   "outputs": [],
   "source": [
    "# We'll use Astropy Tables to print out a few of the columns listed above in a neat way\n",
    "\n",
    "prov_table = Table(spec_hdu[2].data)\n",
    "prov_table.pprint_include_names = ('FILENAME', 'PROPOSID', 'INSTRUMENT', 'DETECTOR', 'DISPERSER', 'APERTURE', 'XPOSURE')\n",
    "\n",
    "prov_table.pprint()\n",
    "\n",
    "# To print all columns use:\n",
    "# prov_table.pprint_all()\n",
    "\n",
    "# Or to print a single column use:\n",
    "# prov_table['FILENAME'].pprint()"
   ]
  },
  {
   "cell_type": "markdown",
   "metadata": {},
   "source": [
    "Now that we know what the level 4 product looks like, let's see how the spectraa compare to the level 2 datasets."
   ]
  },
  {
   "cell_type": "code",
   "execution_count": null,
   "metadata": {},
   "outputs": [],
   "source": [
    "# Make an array to hold the level 2 filenames\n",
    "level2 = ['hlsp_ullyses_hst_cos_sk-67d195_g130m_dr6_cspec.fits', 'hlsp_ullyses_hst_cos_sk-67d195_g160m_dr6_cspec.fits',\n",
    "          'hlsp_ullyses_hst_cos_sk-67d195_g185m_dr6_cspec.fits', 'hlsp_ullyses_hst_stis_sk-67d195_e230m_dr6_cspec.fits']\n",
    "\n",
    "# Set up the plot - start with the level 4 products\n",
    "fig = plt.figure()\n",
    "gs = fig.add_gridspec(3, hspace=0)\n",
    "axs = gs.subplots(sharex=True, sharey=False)\n",
    "axs[0].plot(downsample_1d(wavelength, 10), downsample_1d(flux, 10))\n",
    "axs[1].plot(downsample_1d(wavelength, 10), downsample_1d(error, 10))\n",
    "axs[2].plot(downsample_1d(wavelength, 10), downsample_1d(snr, 10))\n",
    "\n",
    "# Then use a for loop to add the level 2 products on top\n",
    "for prod in level2:\n",
    "    with fits.open(prod) as prod_hdu:\n",
    "        prod_wavelength = prod_hdu[1].data['wavelength']\n",
    "        prod_flux = prod_hdu[1].data['flux']  \n",
    "        prod_error = prod_hdu[1].data['error']\n",
    "        prod_snr = prod_hdu[1].data['snr']\n",
    "    axs[0].plot(downsample_1d(prod_wavelength, 10), downsample_1d(prod_flux, 10), 'b')\n",
    "    axs[1].plot(downsample_1d(prod_wavelength, 10), downsample_1d(prod_error, 10), 'c')\n",
    "    axs[2].plot(downsample_1d(prod_wavelength, 10), downsample_1d(prod_snr, 10), 'r') \n",
    "\n",
    "# Add all the labels\n",
    "plt.suptitle('SK-67 195 Single Epoch')\n",
    "axs[0].set_ylabel('Flux')\n",
    "axs[1].set_ylabel('Error')\n",
    "axs[2].set_ylabel('SNR')\n",
    "plt.xlabel('Wavelength')\n",
    "plt.show()\n",
    "\n",
    "\n",
    "# Note this isn't plotting correctly right now.... :("
   ]
  },
  {
   "cell_type": "markdown",
   "metadata": {},
   "source": [
    "Above we can see how the constuent level 2 products compare to the coadded and abutted level 4 product for this target."
   ]
  },
  {
   "cell_type": "code",
   "execution_count": null,
   "metadata": {},
   "outputs": [],
   "source": [
    "# Be sure to close the HDU at the end :)\n",
    "spec_hdu.close()"
   ]
  },
  {
   "cell_type": "markdown",
   "metadata": {},
   "source": [
    "<a id=\"tss\"></a>\n",
    "### Timeseries Spectra"
   ]
  },
  {
   "cell_type": "markdown",
   "metadata": {},
   "source": [
    "#### FITS File Structure\n",
    "\n",
    "Spectroscopic time-series spectra (TSS) products are available for both survey and monitoring T Tauri stars. LCOGT data are used to create exposure-level TSS products for both survey and monitoring stars. HST data are used to create both exposure-level and sub-exposure-level TSS products for monitoring targets only.\n",
    "\n",
    "Like the single epoch spectra, the TSS data and information is stored in two BINTABLE extensions:\n",
    "- a Science extension for the combined product, and\n",
    "- a matching Provenance extension to record attributes of each spectrum that contributed to the combined product\n",
    "\n",
    "Next, we'll download an exposure-level TTS file for a survey star made from LCOGT data."
   ]
  },
  {
   "cell_type": "code",
   "execution_count": null,
   "metadata": {},
   "outputs": [],
   "source": [
    "# Use curl to download a TSS data product for the target Hn5 (GX Cha)\n",
    "!curl -L -X GET \"https://mast.stsci.edu/api/v0.1/Download/file?uri=mast%3AHLSP%2Fullyses%2Fhn5%2Fdr6%2Fhlsp_ullyses_lcogt_04m_hn5_v-iprime_dr6_tss.fits\" --output \"hlsp_ullyses_lcogt_04m_hn5_v-iprime_dr6_tss.fits\" --fail --create-dirs"
   ]
  },
  {
   "cell_type": "code",
   "execution_count": null,
   "metadata": {},
   "outputs": [],
   "source": [
    "# Create a variable to point to the file we just downloaded, then open the file, and print the HDU info\n",
    "tss_file = Path('./hlsp_ullyses_lcogt_04m_hn5_v-iprime_dr6_tss.fits')\n",
    "tss_hdu = fits.open(tss_file)\n",
    "print(tss_hdu.info())"
   ]
  },
  {
   "cell_type": "markdown",
   "metadata": {},
   "source": [
    "\\\n",
    "From the filename, we can see:\n",
    "- the telescope used is LCOGT\n",
    "- the instrument used is the 0.4 meter\n",
    "- the optical element is v-iprime\n",
    "- this file was created for data release 6\n",
    "\n",
    "Now we'll look at the science and provenance extensions."
   ]
  },
  {
   "cell_type": "markdown",
   "metadata": {},
   "source": [
    "#### Time-series Spectra Science Table\n",
    "The TSS products have slightly different table columns compared to single-epoch spectra. The FLUX and ERROR arrays are 2D arrays with wavelength increasing X, and time increasing along Y. The wavelength values for each column of the 2D data are stored in the WAVELENGTH array, while the MJDSTART and MJDEND columns store the start and end times for each row of the FLUX and ERROR arrays."
   ]
  },
  {
   "cell_type": "code",
   "execution_count": null,
   "metadata": {},
   "outputs": [],
   "source": [
    "# Print the columns in the science extension\n",
    "print(tss_hdu[1].columns)\n",
    "\n",
    "# Print the shape of the FLUX array\n",
    "print('Number of time bins: {}'.format(tss_hdu[1].data['FLUX'][0].shape[0]))\n",
    "print('Number of spectral bins: {}'.format(tss_hdu[1].data['FLUX'][0].shape[1]))"
   ]
  },
  {
   "cell_type": "code",
   "execution_count": null,
   "metadata": {},
   "outputs": [],
   "source": [
    "# Plot the flux vs time for each wavelength bin\n",
    "\n",
    "wavelength = tss_hdu[1].data['WAVELENGTH'][0]\n",
    "flux = tss_hdu[1].data['FLUX'][0]\n",
    "time = tss_hdu[1].data['MJDSTART'][0]\n",
    "flux_wave1 = np.array([x[0] for x in flux])   # this list comprehension selects the first entry in each row, which is the flux at the first wavelength bin\n",
    "flux_wave2 = np.array([x[1] for x in flux])   # this does the same, but for the flux of the second wavelength bin\n",
    "\n",
    "# Filter out the data points that have 0 flux \n",
    "filter1 = np.where(flux_wave1 != 0.0)[0]\n",
    "filter2 = np.where(flux_wave2 != 0.0)[0]\n",
    "\n",
    "# Set up the plot\n",
    "plt.scatter(time[filter1], flux_wave1[filter1], label=r'$\\lambda$={}'.format(wavelength[0]))\n",
    "plt.scatter(time[filter2], flux_wave2[filter2], label=r'$\\lambda$={}'.format(wavelength[1]))\n",
    "\n",
    "plt.title('Hn5 timeseries')\n",
    "plt.ylim(0,5e-15)\n",
    "plt.ylabel('Flux')\n",
    "plt.xlabel('MJD Start')\n",
    "plt.legend()  \n",
    "plt.show()"
   ]
  },
  {
   "cell_type": "markdown",
   "metadata": {},
   "source": [
    "#### Time-series Spectra Provenance Table\n",
    "Select metadata for each spectrum that contributes to the time-series product will populate a row in the provenance table. The fields in the table are metadata harvested from the headers of the contributing spectra. Some columns are only present for HST data or LCOGT data."
   ]
  },
  {
   "cell_type": "code",
   "execution_count": null,
   "metadata": {},
   "outputs": [],
   "source": [
    "# Print the columns in the provenance extension\n",
    "print(tss_hdu[2].columns)"
   ]
  },
  {
   "cell_type": "code",
   "execution_count": null,
   "metadata": {
    "scrolled": true
   },
   "outputs": [],
   "source": [
    "# We'll use Astropy Tables to make it print out a few of the columns listed above in a neat way\n",
    "\n",
    "prov_table = Table(tss_hdu[2].data)\n",
    "prov_table.pprint_include_names = ('FILENAME', 'PROPOSID', 'INSTRUMENT', 'DETECTOR', 'FILTER', 'APERTURE', 'XPOSURE')\n",
    "\n",
    "prov_table.pprint()\n",
    "\n",
    "# To print all columns use:\n",
    "# prov_table.pprint_all()\n",
    "\n",
    "# Or to print a single column use:\n",
    "# prov_table['FILENAME'].pprint()"
   ]
  },
  {
   "cell_type": "code",
   "execution_count": null,
   "metadata": {},
   "outputs": [],
   "source": [
    "# Be sure to close the HDU when we are finished exploring!\n",
    "tss_hdu.close()"
   ]
  },
  {
   "cell_type": "markdown",
   "metadata": {},
   "source": [
    "#### Sub-exposure level TTS Data Product Example\n",
    "\n",
    "Next let's check out a TTS file for one of the T Tauri monitoring stars, TW-Hydra."
   ]
  },
  {
   "cell_type": "code",
   "execution_count": null,
   "metadata": {},
   "outputs": [],
   "source": [
    "# Use curl to download a TSS data product for the target\n",
    "!curl -L -X GET \"https://mast.stsci.edu/api/v0.1/Download/file?uri=mast%3AHLSP%2Fullyses%2Fv-tw-hya%2Fdr7%2Fhlsp_ullyses_hst_cos_v-tw-hya_g160m_dr7_split-tss.fits\" --output \"hlsp_ullyses_hst_cos_v-tw-hya_g160m_dr7_split-tss.fits\" --fail --create-dirs"
   ]
  },
  {
   "cell_type": "code",
   "execution_count": null,
   "metadata": {},
   "outputs": [],
   "source": [
    "# Create a variable to point to the file we just downloaded, then open the file, and print the HDU info\n",
    "tss_file = Path('./hlsp_ullyses_hst_cos_v-tw-hya_g160m_dr7_split-tss.fits')\n",
    "tss_hdu = fits.open(tss_file)\n",
    "print(tss_hdu.info())"
   ]
  },
  {
   "cell_type": "markdown",
   "metadata": {},
   "source": [
    "\\\n",
    "From the filename, we can see:\n",
    "- the telescope used is HST\n",
    "- the instrument used is COS\n",
    "- the optical element is G160M\n",
    "- this file was created for data release 7\n",
    "\n",
    "Now we'll look at the science and provenance extensions."
   ]
  },
  {
   "cell_type": "code",
   "execution_count": null,
   "metadata": {},
   "outputs": [],
   "source": [
    "# Print the columns in the science extension\n",
    "print(tss_hdu[1].columns)\n",
    "\n",
    "# Print the shape of the FLUX array\n",
    "print('Number of time bins: {}'.format(tss_hdu[1].data['FLUX'][0].shape[0]))\n",
    "print('Number of spectral bins: {}'.format(tss_hdu[1].data['FLUX'][0].shape[1]))"
   ]
  },
  {
   "cell_type": "code",
   "execution_count": null,
   "metadata": {},
   "outputs": [],
   "source": [
    "# Print the columns in the provenance extension\n",
    "print(tss_hdu[2].columns)"
   ]
  },
  {
   "cell_type": "code",
   "execution_count": null,
   "metadata": {},
   "outputs": [],
   "source": [
    "# We'll use Astropy Tables to make it print out a few of the columns listed above in a neat way\n",
    "\n",
    "prov_table = Table(tss_hdu[2].data)\n",
    "prov_table.pprint_include_names = ('FILENAME', 'PROPOSID', 'INSTRUMENT', 'DETECTOR', 'FILTER', 'APERTURE', 'XPOSURE', 'MJD_MID')\n",
    "\n",
    "# prov_table.pprint()\n",
    "\n",
    "# To print all columns use:\n",
    "prov_table.pprint_all()\n",
    "\n",
    "# Or to print a single column use:\n",
    "# prov_table['FILENAME'].pprint()"
   ]
  },
  {
   "cell_type": "markdown",
   "metadata": {},
   "source": [
    "From the above provenance table output, the XPSOURE column shows us that each exposure was split into 30 second time bins to create this sub-exposure TSS product."
   ]
  },
  {
   "cell_type": "code",
   "execution_count": null,
   "metadata": {},
   "outputs": [],
   "source": [
    "# Make useful variable names for the pertinent columns in the file\n",
    "flux = tss_hdu[1].data['flux'][0]\n",
    "wavelength = tss_hdu[1].data['wavelength'][0]\n",
    "mjdstart = tss_hdu[1].data['mjdstart'][0]\n",
    "mjdend = tss_hdu[1].data['mjdend'][0]\n",
    "\n",
    "# Since there are 720 time bins, we pick some random indices and plot the spectra corresponding to those times\n",
    "indices = [0, 200, 400, 600, 719]\n",
    "# colors = ['#1b9e77', '#d95f02', '#7570b3', '#66a61e', '#e7298a']  #colorblind-distinguishable colors\n",
    "for i, ind in enumerate(indices):\n",
    "    plt.plot(wavelength, flux[ind], label=f'index={ind}, {mjdstart[ind]:.4f} - {mjdend[ind]:.4f}')\n",
    "plt.legend()\n",
    "plt.xlabel('Wavelength [A]')\n",
    "plt.ylabel('Flux [ergs/s/cm^2]')\n",
    "plt.title('TW Hydra Spectral Time Series')\n",
    "plt.xlim(1540, 1560)\n",
    "plt.ylim(-0.1e-12, 2.2e-12)"
   ]
  },
  {
   "cell_type": "code",
   "execution_count": null,
   "metadata": {},
   "outputs": [],
   "source": [
    "# Be sure to close the HDU when we are finished exploring!\n",
    "tss_hdu.close()"
   ]
  },
  {
   "cell_type": "markdown",
   "metadata": {},
   "source": [
    "<a id=\"drizzle\"></a>\n",
    "### WFC3 Drizzled Images"
   ]
  },
  {
   "cell_type": "markdown",
   "metadata": {},
   "source": [
    "#### FITS File Structure\n",
    "\n",
    "Drizzled and weight images are stored in two IMAGEHDU extensions, and PROVENANCE information stored in a BINTABLE extension:\n",
    "- a Science extension for the drizzled science image\n",
    "- a Weight extension for the weight map image\n",
    "- a matching Provenance extension to record attributes of each image that contributed to the combined product\n",
    "\n",
    "Last, we'll explore a drizzled image of Sextans A observed with WFC3 with the F336W filter."
   ]
  },
  {
   "cell_type": "code",
   "execution_count": null,
   "metadata": {},
   "outputs": [],
   "source": [
    "# Download the data product\n",
    "!curl -L -X GET \"https://mast.stsci.edu/api/v0.1/Download/file?uri=mast%3AHLSP%2Fullyses%2Fsextans-a%2Fdr6%2Fhlsp_ullyses_hst_wfc3_sextans-a_f336w_dr6_drc.fits\" --output \"hlsp_ullyses_hst_wfc3_sextans-a_f336w_dr6_drc.fits\" --fail --create-dirs"
   ]
  },
  {
   "cell_type": "code",
   "execution_count": null,
   "metadata": {},
   "outputs": [],
   "source": [
    "# Create a variable to point to the file we just downloaded, open the file, and print the HDU info\n",
    "drz_file = Path('./hlsp_ullyses_hst_wfc3_sextans-a_f336w_dr6_drc.fits')\n",
    "drz_hdu = fits.open(drz_file)\n",
    "print(drz_hdu.info())"
   ]
  },
  {
   "cell_type": "markdown",
   "metadata": {},
   "source": [
    "\\\n",
    "From the filename, we can see:\n",
    "- the telescope used is HST\n",
    "- the instrument used is WFC3\n",
    "- the optical element is F336W\n",
    "- this file was created for data release 6\n",
    "\n",
    "Now we'll look at the science, weight, and provenance extensions."
   ]
  },
  {
   "cell_type": "markdown",
   "metadata": {},
   "source": [
    "#### Drizzled Image Science Extension\n",
    "\n",
    "This extension is an image array that contains the drizzled image data."
   ]
  },
  {
   "cell_type": "code",
   "execution_count": null,
   "metadata": {},
   "outputs": [],
   "source": [
    "# Print the size of the drizzled image that's in the science extension\n",
    "print(drz_hdu[1].shape)"
   ]
  },
  {
   "cell_type": "code",
   "execution_count": null,
   "metadata": {},
   "outputs": [],
   "source": [
    "# Plot the drizzled image\n",
    "drz_data = drz_hdu[1].data\n",
    "wcs = WCS(drz_hdu[1].header)  # this creates a WCS object from the image header coordinate information\n",
    "\n",
    "plt.subplot(projection=wcs)\n",
    "plt.imshow(drz_data, vmin=0, vmax=0.03)\n",
    "\n",
    "plt.title('Sextans A - F336W')\n",
    "plt.grid(color='white', ls=':', alpha=0.7)\n",
    "plt.xlabel('Right Ascension')\n",
    "plt.ylabel('Declination')\n",
    "plt.show()"
   ]
  },
  {
   "cell_type": "markdown",
   "metadata": {},
   "source": [
    "#### Drizzled Image Weight Map Extension\n",
    "\n",
    "This extension is another image array that contains the weight map data. The weight map is ..."
   ]
  },
  {
   "cell_type": "code",
   "execution_count": null,
   "metadata": {},
   "outputs": [],
   "source": [
    "# Print the size of the weight map, which is the second extension. This should be the same as the drizzled image\n",
    "print(drz_hdu[2].shape)"
   ]
  },
  {
   "cell_type": "code",
   "execution_count": null,
   "metadata": {},
   "outputs": [],
   "source": [
    "# Plot the weight map\n",
    "wgt_data = drz_hdu[2].data\n",
    "wcs = WCS(drz_hdu[2].header)\n",
    "\n",
    "plt.subplot(projection=wcs)\n",
    "plt.imshow(wgt_data, vmin=0, vmax=1)\n",
    "\n",
    "plt.title('Sextans A - F336W - weight map')\n",
    "plt.grid(color='white', ls=':')\n",
    "plt.xlabel('Right Ascension')\n",
    "plt.ylabel('Declination')\n",
    "plt.show()"
   ]
  },
  {
   "cell_type": "markdown",
   "metadata": {},
   "source": [
    "#### Drizzled Image Provenance Table\n",
    "\n",
    "Select metadata for each image that contributes to the drizzled image in will populate a row in the provenance table. The fields in the  table are metadata harvested from the headers of the contributing images."
   ]
  },
  {
   "cell_type": "code",
   "execution_count": null,
   "metadata": {},
   "outputs": [],
   "source": [
    "# Print the columns in the provenance extension\n",
    "print(drz_hdu[3].columns)"
   ]
  },
  {
   "cell_type": "code",
   "execution_count": null,
   "metadata": {},
   "outputs": [],
   "source": [
    "# We'll again use Astropy Tables to make it print out a few of the columns listed above in a neat way\n",
    "\n",
    "prov_table = Table(drz_hdu[3].data)\n",
    "prov_table.pprint_include_names = ('FILENAME', 'PROPOSID', 'INSTRUMENT', 'DETECTOR', 'FILTER', 'APERTURE', 'XPOSURE')\n",
    "\n",
    "prov_table.pprint()\n",
    "\n",
    "# To print all columns use:\n",
    "# prov_table.pprint_all()\n",
    "\n",
    "# Or to print a single column use:\n",
    "# prov_table['FILENAME'].pprint()"
   ]
  },
  {
   "cell_type": "code",
   "execution_count": null,
   "metadata": {},
   "outputs": [],
   "source": [
    "# Close the DRZ HDU!\n",
    "drz_hdu.close()"
   ]
  },
  {
   "cell_type": "markdown",
   "metadata": {},
   "source": [
    "***"
   ]
  },
  {
   "cell_type": "markdown",
   "metadata": {},
   "source": [
    "## Additional Resources\n",
    "\n",
    "- [ULLYSES](https://ullyses.stsci.edu)\n",
    "- [MAST API](https://mast.stsci.edu/api/v0/index.html)"
   ]
  },
  {
   "cell_type": "markdown",
   "metadata": {
    "slideshow": {
     "slide_type": "slide"
    }
   },
   "source": [
    "## About this Notebook\n",
    "For support, contact us at the [ULLYSES Helpdesk](https://stsci.service-now.com/hst?id=sc_cat_item&sys_id=a3b8ec5edbb7985033b55dd5ce961990&sysparm_category=ac85189bdb4683c033b55dd5ce96199c).\n",
    "\n",
    "**Author:**  Elaine M Frazer \\\n",
    "**Updated On:** 2023-11-17"
   ]
  },
  {
   "cell_type": "markdown",
   "metadata": {},
   "source": [
    "## Citations\n",
    "* See the [ULLYSES website](https://ullyses.stsci.edu/ullyses-cite.html) for citation guidelines.\n"
   ]
  },
  {
   "cell_type": "markdown",
   "metadata": {},
   "source": [
    "***"
   ]
  },
  {
   "cell_type": "markdown",
   "metadata": {},
   "source": [
    "[Top of Page](#top)\n",
    "<img style=\"float: right;\" src=\"https://raw.githubusercontent.com/spacetelescope/notebooks/master/assets/stsci_pri_combo_mark_horizonal_white_bkgd.png\" alt=\"Space Telescope Logo\" width=\"200px\"/> "
   ]
  }
 ],
 "metadata": {
  "kernelspec": {
   "display_name": "Python 3 (ipykernel)",
   "language": "python",
   "name": "python3"
  },
  "language_info": {
   "codemirror_mode": {
    "name": "ipython",
    "version": 3
   },
   "file_extension": ".py",
   "mimetype": "text/x-python",
   "name": "python",
   "nbconvert_exporter": "python",
   "pygments_lexer": "ipython3",
   "version": "3.8.18"
  }
 },
 "nbformat": 4,
 "nbformat_minor": 4
}
