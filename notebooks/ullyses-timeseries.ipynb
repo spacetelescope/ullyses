{
 "cells": [
  {
   "cell_type": "markdown",
   "metadata": {
    "slideshow": {
     "slide_type": "slide"
    }
   },
   "source": [
    "<a id=\"top\"></a>\n",
    "# ULLYSES Time-Series Spectral Products"
   ]
  },
  {
   "cell_type": "markdown",
   "metadata": {
    "slideshow": {
     "slide_type": "skip"
    }
   },
   "source": [
    "***"
   ]
  },
  {
   "cell_type": "markdown",
   "metadata": {},
   "source": [
    "## Learning Goals\n",
    "\n",
    "By the end of this tutorial, you will:\n",
    "\n",
    "- learn how the ULLYSES team creates time-series spectra\n",
    "- learn how to create generic time-series spectra "
   ]
  },
  {
   "cell_type": "markdown",
   "metadata": {},
   "source": [
    "## Table of Contents\n",
    "**0. [Introduction](#introduction)**\n",
    "\n",
    "**1. [Obtain Data](#sec1)**\n",
    "\n",
    "**2. [Creating a time-series spectrum](#sec2)**\n",
    "\n",
    "\\- 2.1 [Time-series YAML files](#sec21)\n",
    "\n",
    "\\- 2.2 [Running the time-series creation routine](#sec22) \n",
    "\n",
    "**3. [Time-series Spectrum Format](#sec3)**\n",
    "\n",
    "**4. [Creating your own custom STIS spectra](#sec4)**"
   ]
  },
  {
   "cell_type": "markdown",
   "metadata": {
    "slideshow": {
     "slide_type": "slide"
    }
   },
   "source": [
    "<a id=\"introduction\"></a>\n",
    "## Introduction\n",
    "\n",
    "The Hubble Space Telescope’s (HST) Ultraviolet Legacy Library of Young Stars as Essential Standards ([ULLYSES](https://ullyses.stsci.edu/index.html)) program has devoted approximately 1,000 HST orbits to the production of an ultraviolet spectroscopic library of young high- and low-mass stars in the local universe. The ULLYSES team produces several types of High Level Science Products (HLSPs). Products are made using HST, FUSE, and LCO data.\n",
    "\n",
    "For the vast majority of data, the ULLYSES team [coadds](https://ullyses.stsci.edu/ullyses-data-description.html#CoaddSpectra) all data of the same instrument and grating combination. However, for targets who exhibit variable flux, coaddition should not be performed. Instead, the ULLYSES team creates [time-series spectra](https://ullyses.stsci.edu/ullyses-data-description.html#hlspFormatTimeSpec), or TSS. "
   ]
  },
  {
   "cell_type": "markdown",
   "metadata": {},
   "source": [
    "Time-series spectra (TSS) come in two flavors:\n",
    "1. exposure level, where each input spectrum used as-is (with suffix `_tss.fits`)\n",
    "2. sub-exposure level, where each input spectrum is split into *sub-exposures*, to probe a finer timescale than the executed exposure time (with suffix `_split-tss.fits`)\n",
    "\n",
    "These products are created from HST spectroscopic data as well as imaging data from the Las Cumbres Observatory (LCO).\n",
    "The products available for each type of target and data are summarized in the table below. TSS are all level 5 data products.\n",
    "\n",
    "| Target         | Data    | TSS Type                        |\n",
    "| -------------- | ------- | ------------------------------- |\n",
    "| Survey TTS     | LCO     | Exposure level                  |\n",
    "| Survey TTS     | HST     | Exposure level                  |\n",
    "| Monitoring TTS | LCO     | Exposure level                  |\n",
    "| Monitoring TTS | HST     | Exposure and sub-exposure level |\n",
    "\n",
    "In this notebook we will show how exposure-level TSS are created, and how to create them yourself."
   ]
  },
  {
   "cell_type": "markdown",
   "metadata": {
    "slideshow": {
     "slide_type": "slide"
    }
   },
   "source": [
    "### Imports\n",
    "We need only access to basic python packages, `astropy` for reading FITS files, `matplotlib` for plotting, and ULLYSES packages (`ullyses` and `ullyses_utils`) to create time-series spectra."
   ]
  },
  {
   "cell_type": "code",
   "execution_count": null,
   "metadata": {
    "slideshow": {
     "slide_type": "fragment"
    }
   },
   "outputs": [],
   "source": [
    "import sys\n",
    "current_stdout = sys.stdout\n",
    "import os\n",
    "import glob\n",
    "import numpy as np\n",
    "import pprint\n",
    "from collections import Counter\n",
    "\n",
    "from astropy.io import fits\n",
    "\n",
    "import matplotlib\n",
    "import matplotlib.pyplot as plt\n",
    "plt.rcParams['figure.figsize']=12,5\n",
    "#plt.style.use('seaborn-v0_8-notebook')\n",
    "plt.style.use('tableau-colorblind10')\n",
    "#%matplotlib inline\n",
    "%matplotlib widget\n",
    "\n",
    "import ullyses_utils\n",
    "from ullyses_utils.readwrite_yaml import read_config\n",
    "from ullyses.timeseries_wrapper import exp_star"
   ]
  },
  {
   "cell_type": "markdown",
   "metadata": {},
   "source": [
    "***"
   ]
  },
  {
   "cell_type": "markdown",
   "metadata": {},
   "source": [
    "<a id=\"sec1\"></a>\n",
    "## Obtain Data"
   ]
  },
  {
   "cell_type": "markdown",
   "metadata": {},
   "source": [
    "To download data, we will retrieve it directly from MAST. For this example, we'll download 8 COS/G160M observations of ULLYSES survey T Tauri Star CVSO-109. We will only retrieve the final 1D spectra (`x1d` files). All files use the G160M cenwave 1611 setting.\n",
    "\n",
    "These datasets will download into a new directory in your current working directory, called `notebook_download/`."
   ]
  },
  {
   "cell_type": "code",
   "execution_count": null,
   "metadata": {},
   "outputs": [],
   "source": [
    "!curl -L -X GET \"https://mast.stsci.edu/search/hst/api/v0.1/retrieve_product?product_name=LCCP03010%2Flccp03r8q_x1d.fits\" --output \"notebook_download/lccp03r8q_x1d.fits\" --fail --create-dirs\n",
    "!curl -L -X GET \"https://mast.stsci.edu/search/hst/api/v0.1/retrieve_product?product_name=LCCP03010%2Flccp03raq_x1d.fits\" --output \"notebook_download/lccp03raq_x1d.fits\" --fail --create-dirs\n",
    "!curl -L -X GET \"https://mast.stsci.edu/search/hst/api/v0.1/retrieve_product?product_name=LCCP03010%2Flccp03rcq_x1d.fits\" --output \"notebook_download/lccp03rcq_x1d.fits\" --fail --create-dirs\n",
    "!curl -L -X GET \"https://mast.stsci.edu/search/hst/api/v0.1/retrieve_product?product_name=LCCP03010%2Flccp03req_x1d.fits\" --output \"notebook_download/lccp03req_x1d.fits\" --fail --create-dirs\n",
    "!curl -L -X GET \"https://mast.stsci.edu/search/hst/api/v0.1/retrieve_product?product_name=LE9K2C020%2Fle9k2cf4q_x1d.fits\" --output \"notebook_download/le9k2cf4q_x1d.fits\" --fail --create-dirs\n",
    "!curl -L -X GET \"https://mast.stsci.edu/search/hst/api/v0.1/retrieve_product?product_name=LE9K2C020%2Fle9k2cf6q_x1d.fits\" --output \"notebook_download/le9k2cf6q_x1d.fits\" --fail --create-dirs\n",
    "!curl -L -X GET \"https://mast.stsci.edu/search/hst/api/v0.1/retrieve_product?product_name=LE9K2C020%2Fle9k2cf8q_x1d.fits\" --output \"notebook_download/le9k2cf8q_x1d.fits\" --fail --create-dirs\n",
    "!curl -L -X GET \"https://mast.stsci.edu/search/hst/api/v0.1/retrieve_product?product_name=LE9K2C020%2Fle9k2cfaq_x1d.fits\" --output \"notebook_download/le9k2cfaq_x1d.fits\" --fail --create-dirs"
   ]
  },
  {
   "cell_type": "markdown",
   "metadata": {},
   "source": [
    "***"
   ]
  },
  {
   "cell_type": "markdown",
   "metadata": {},
   "source": [
    "<a id=\"sec2\"></a>\n",
    "## Inspect 1D spectra"
   ]
  },
  {
   "cell_type": "markdown",
   "metadata": {},
   "source": [
    "Let's take a look at the MAST 1D spectra for these eight datasets."
   ]
  },
  {
   "cell_type": "code",
   "execution_count": null,
   "metadata": {},
   "outputs": [],
   "source": [
    "# Get all x1ds\n",
    "x1ds = glob.glob(\"notebook_download/lccp03*x1d.fits\") + glob.glob(\"notebook_download/le9k2c*x1d.fits\")\n",
    "# Now sort them by observation start date\n",
    "mjdstarts = [fits.getval(x, \"EXPSTART\", 1) for x in x1ds]\n",
    "inds_sorted = np.argsort(mjdstarts)\n",
    "x1ds = np.array(x1ds)[inds_sorted]"
   ]
  },
  {
   "cell_type": "code",
   "execution_count": null,
   "metadata": {},
   "outputs": [],
   "source": [
    "# Function for plotting 1D spectra\n",
    "def plot_x1ds(x1ds, xlim=None):\n",
    "    \"\"\"\n",
    "    Plot x1d spectra.\n",
    "    Args:\n",
    "        x1ds (array-like): List of x1d files to plot.\n",
    "        xlim (array-like): (Optional) If specified, x limits of plot.\n",
    "    \"\"\"\n",
    "    # We will cycle through the colors in a colormap.\n",
    "    fig = plt.figure()\n",
    "    cmap = matplotlib.colormaps[\"viridis\"]\n",
    "    evals = np.linspace(0, 1, len(x1ds))\n",
    "    # To keep track of legend items\n",
    "    plot_legends = []\n",
    "    for i,item in enumerate(x1ds):\n",
    "        # Get ext=1 SCI data and observation date\n",
    "        data = fits.getdata(item)\n",
    "        date_obs = fits.getval(item, \"date-obs\", 1)\n",
    "        time_obs = fits.getval(item, \"time-obs\", 1)\n",
    "        color = cmap(evals[i])\n",
    "        # Plot flux vs. wavelength\n",
    "        for j in range(len(data[\"flux\"])): # This is to loop over the segments used.\n",
    "            plot_legend, = plt.plot(data[\"wavelength\"][j], data[\"flux\"][j], color=color, alpha=0.6, \n",
    "                     label=f\"{os.path.basename(item)} {date_obs} {time_obs}\")\n",
    "        plot_legends.append(plot_legend)\n",
    "        # Optionally set x limits\n",
    "        if xlim is not None:\n",
    "            plt.xlim(xlim[0], xlim[1])\n",
    "        plt.title(\"COS/G160M spectra - CVSO-109\")\n",
    "        plt.xlabel(\"Wavelength [$\\mathrm{\\AA}$]\")\n",
    "        plt.ylabel(\"Flux\\n[ergs/s/cm^2/$\\mathrm{\\AA}$]\")\n",
    "    plt.legend(handles=plot_legends)"
   ]
  },
  {
   "cell_type": "code",
   "execution_count": null,
   "metadata": {},
   "outputs": [],
   "source": [
    "plot_x1ds(x1ds)"
   ]
  },
  {
   "cell_type": "markdown",
   "metadata": {},
   "source": [
    "It's a little hard to see any variability here, so let's zoom in on the C IV line."
   ]
  },
  {
   "cell_type": "code",
   "execution_count": null,
   "metadata": {},
   "outputs": [],
   "source": [
    "plot_x1ds(x1ds, xlim=(1545, 1555))"
   ]
  },
  {
   "cell_type": "markdown",
   "metadata": {},
   "source": [
    "From this plot, we can see there seems to be two different flux states for this star, corresponding to the different observational epochs in 2014 and 2020. Because of this, the ULLYSES team cannot coadd all of the available G160M data. Instead, we create a time-series spectrum for this target."
   ]
  },
  {
   "cell_type": "markdown",
   "metadata": {},
   "source": [
    "<a id=\"sec2\"></a>\n",
    "## Creating a time-series spectrum"
   ]
  },
  {
   "cell_type": "markdown",
   "metadata": {},
   "source": [
    "<a id=\"sec21\"></a>\n",
    "### Time-series YAML files"
   ]
  },
  {
   "cell_type": "markdown",
   "metadata": {},
   "source": [
    "To create a TSS, we need to specify which grating and datasets should be used. This is done by creating a YAML file with the relevant info.\n",
    "YAML files are convenient, human-readable files that act as configuration setups. The ULLYSES team creates timeseries YAML filesfor all T Tauri stars that show variation across different observational epochs\n",
    "\n",
    "Let's take a look at the CVSO-109 timeseries YAML file now. All timeseries YAML files can be found in the [`ullyses_utils` package](https://github.com/spacetelescope/ullyses-utils/tree/main/src/ullyses_utils/data/timeseries)."
   ]
  },
  {
   "cell_type": "code",
   "execution_count": null,
   "metadata": {},
   "outputs": [],
   "source": [
    "# Find your local installation of the ullyses_utils package\n",
    "utils_dir = ullyses_utils.__path__[0]\n",
    "# Get the path to the timeseries YAML files\n",
    "yamls = glob.glob(os.path.join(utils_dir, f\"data/timeseries/*cvso-109*.yaml\"))\n",
    "yamls.sort()\n",
    "pprint.pprint(yamls)"
   ]
  },
  {
   "cell_type": "markdown",
   "metadata": {},
   "source": [
    "There is just one YAML for CVSO-109 COS data, so let's open it and take a look."
   ]
  },
  {
   "cell_type": "code",
   "execution_count": null,
   "metadata": {},
   "outputs": [],
   "source": [
    "# Use the ULLYSES convenience function to read the YAML file\n",
    "yaml = yamls[0]\n",
    "config = read_config(yaml)\n",
    "print(f\"{os.path.basename(yaml)}:\")\n",
    "for k,v in config.items():\n",
    "    print(f\"    {k}: {v}\")"
   ]
  },
  {
   "cell_type": "markdown",
   "metadata": {},
   "source": [
    "Let's walk through what's contained in this file, but keep in mind CVSO-109 is a *survey* T Tauri star.\n",
    "- `exp_tss` and `sub_exp_tss` (Bool): Time-series spectra of the specified type(s) will be created based on these values.\n",
    "- `observatory`, `instrument`, and `gratings` (str): Describe the mode(s) for which TSS should be created.\n",
    "- `bins` (dict): This is only used when creating sub-exposure level TSS, which we do not create for survey stars.\n",
    "- `good_files` (list): These are files that should be used to create the TSS. Using the normal [HST IPPPSSOOT](https://archive.stsci.edu/hlsp/ipppssoot.html) naming convention, either the IPPPSS or IPPPSSOOT may be supplied.\n",
    "- `bad_files` (list): If specified, we can list any IPPPSSOOT which should not be included in the TSS. This is usually used for monitoring stars only.\n",
    "- `wavelength_shift` (dict): If any input COS spectra suffer from wavelength offsets (e.g. from miscentering in the aperture Along-Dispersion direction), the shift files used to correct them may be specified here."
   ]
  },
  {
   "cell_type": "markdown",
   "metadata": {},
   "source": [
    "<a id=\"sec22\"></a>\n",
    "### Running the time-series creation routine"
   ]
  },
  {
   "cell_type": "markdown",
   "metadata": {},
   "source": [
    "To create a time-series spectrum, we need to run a function called `exp_star`. This is in the `ullyses.timeseries_wrapper` module. The following information is accepted at runtime:\n",
    "\n",
    "**REQUIRED**\n",
    "\n",
    "- `datadir` (str): The path the original data will be copied to, to avoid overwriting original 1D spectra.\n",
    "- `orig_datadir` (str): The path to the data to be turned into a time-series spectrum.\n",
    "- `tss_outdir` (str): The path that the time-series product will be written to.\n",
    "- `targ` (str): The target name. The code is designed to work on ULLYSES targets, and timeseries YAML files can be automatically located if the \"ULLYSES HLSP\" name is provided. These names can be found in the [ULLYSES alias file](https://github.com/spacetelescope/ullyses-utils/blob/main/src/ullyses_utils/data/target_metadata/ullyses_aliases.csv).\n",
    "\n",
    "**OPTIONAL**\n",
    "\n",
    "- `yamlfile` (str): If the target name does not exactly match the ULLYSES HLSP name, or if you want to specify a custom YAML file, it must be explicitly supplied here.\n",
    "- `min_exptime` (float): The minimum exposure time in seconds, above which, datasets will be included in the output TSS. The default is 0.1s.\n",
    "- `instrument` (str): Sometimes, for a single star, there are multiple YAML files for mulitple instruments. In this case, the instrument of interest must be supplied. The default is COS."
   ]
  },
  {
   "cell_type": "markdown",
   "metadata": {},
   "source": [
    "Now, let's see how we can run the wrapper for CVSO-109, which can be done in two different ways. Both methods are equivalent."
   ]
  },
  {
   "cell_type": "code",
   "execution_count": null,
   "metadata": {},
   "outputs": [],
   "source": [
    "# Let the code automatically find the YAML file\n",
    "exp_star(datadir=\"notebook_download/tss_data\", orig_datadir=\"notebook_download/\", tss_outdir=\"tss_output\",\n",
    "         targ=\"cvso-109\", instrument=\"cos\")\n",
    "\n",
    "# Manually specify the yamlfile\n",
    "#exp_star(datadir=\"notebook_download/tss_data\", orig_datadir=\"notebook_download/\", tss_outdir=\"tss_output\",\n",
    "#         targ=\"cvso-109\", yamlfile=yaml)"
   ]
  },
  {
   "cell_type": "markdown",
   "metadata": {},
   "source": [
    "From the output, we can see that the code copied the original data (from `orig_datadir`) to a new directory (`datadir`). \n",
    "It then added all the matching x1ds specified in the YAML file to a list, then inserted each one into the time-series spectrum, in order of observation start time. Finally, it wrote a timeseries product with suffix `_tss.fits`. Now let's explore that output file."
   ]
  },
  {
   "cell_type": "markdown",
   "metadata": {},
   "source": [
    "<a id=\"sec3\"></a>\n",
    "## Time-series Spectrum Format"
   ]
  },
  {
   "cell_type": "markdown",
   "metadata": {},
   "source": [
    "Time-series spectra essentially stack all individual 1D spectral fluxes and errors into a 2D array. All input data are rebinned onto the same wavelength grid. Data are then assembled into a 2-D array by inserting each rebinned spectrum into a row of a 2-D image, where the rows are ordered in time. \n",
    "\n",
    "Flux and error arrays are 2D arrays with wavelength increasing along X, and time increasing along Y. The wavelength values for each column of the 2D data are stored in the wavelength array, while the mjdstart and mjdend columns store the start and end times for each row of the flux and error arrays.\n",
    "\n",
    "Let's look at the TSS we just created to further understand the format."
   ]
  },
  {
   "cell_type": "code",
   "execution_count": null,
   "metadata": {},
   "outputs": [],
   "source": [
    "tss = \"tss_output/hlsp_ullyses_hst_cos_cvso-109_g160m_dr7_tss.fits\"\n",
    "fits.info(tss)"
   ]
  },
  {
   "cell_type": "markdown",
   "metadata": {},
   "source": [
    "This is the typical format of ULLYSES HLSPs: a primary header, a SCIENCE 1st extension, and a PROVENANCE 2nd extension that lists key metadata for each contributing 1D spectrum. For more info on the HLSP format, see the [Walkthrough notebook](https://github.com/spacetelescope/ullyses/blob/main/notebooks/ullyses-walkthrough.ipynb). Let's look at the SCIENCE extension."
   ]
  },
  {
   "cell_type": "code",
   "execution_count": null,
   "metadata": {},
   "outputs": [],
   "source": [
    "data = fits.getdata(tss)\n",
    "data.columns"
   ]
  },
  {
   "cell_type": "markdown",
   "metadata": {},
   "source": [
    "We can tell a lot about the format of this file just from the SCIENCE array dimensions: \n",
    "- the flux and error arrays are 31,832 rows by 8 columns\n",
    "- the mjdstart and mjdend arrays are both 8 rows\n",
    "- the wavelength array is 31,832 rows\n",
    "\n",
    "This is because the the X axis of the 2D arrays (flux and error) represents wavelength, while the Y axis represents time (mjdstart/end). Let's plot some data to really illustrate this."
   ]
  },
  {
   "cell_type": "code",
   "execution_count": null,
   "metadata": {},
   "outputs": [],
   "source": [
    "# The wavelength is the same for all stacked spectra, so we only need to read it in once\n",
    "wl = data[\"wavelength\"][0]\n",
    "cmap = matplotlib.colormaps[\"viridis\"]\n",
    "numspectra = len(data[\"flux\"][0])\n",
    "evals = np.linspace(0, 1, numspectra)\n",
    "# Store the PROVENANCE extension\n",
    "prov = fits.getdata(tss, 2)\n",
    "fig = plt.figure()\n",
    "for i in range(numspectra):\n",
    "    # Get flux for that individual time index/spectrum\n",
    "    flux = data[\"flux\"][0][i] # This is an array\n",
    "    # Get the corresponding start time\n",
    "    mjdstart = data[\"mjdstart\"][0][i] # This is a single value\n",
    "    # Get the corresponding filename from the PROVENANCE extension\n",
    "    filename = prov[\"filename\"][i]\n",
    "    color = cmap(evals[i])\n",
    "    \n",
    "    # Plot flux vs. wavelength\n",
    "    plt.plot(wl, flux, color=color, alpha=0.6, label=f\"{filename} {mjdstart}\")\n",
    "    plt.xlim(1545, 1555)\n",
    "    plt.legend()\n",
    "    plt.title(\"COS/G160M time-series spectrum - CVSO-109\")\n",
    "    plt.xlabel(\"Wavelength [$\\mathrm{\\AA}$]\")\n",
    "    plt.ylabel(\"Flux\\n[ergs/s/cm^2/$\\mathrm{\\AA}$]\")"
   ]
  },
  {
   "cell_type": "markdown",
   "metadata": {},
   "source": [
    "This looks very similar to the plot we made before, just by reading in the individual x1ds... In fact, let's plot that up again for comparison."
   ]
  },
  {
   "cell_type": "code",
   "execution_count": null,
   "metadata": {},
   "outputs": [],
   "source": [
    "plot_x1ds(x1ds, xlim=(1545, 1555))"
   ]
  },
  {
   "cell_type": "markdown",
   "metadata": {},
   "source": [
    "As expected, they are identical! \n",
    "\n",
    "The benefit to using time-series spectra is that the ULLYSES team has already gone through the work of packaging up all relevant spectra into a single file for your use. For this target, there were only 8 contributing spectra, but for the monitoring stars, exposure level TSS can have over 100 contributing spectra. And for sub-exposure TSS, there can be over 700 individual sub-exposures in a single file! Additionally, any manual corrections required for each contributing 1D spectrum (COS/NUV vignetting, STIS defringing, custom extraction, wavelength shifts, etc.) are incorporated in ULLYSES TSS."
   ]
  },
  {
   "cell_type": "markdown",
   "metadata": {},
   "source": [
    "<a id=\"sec4\"></a>\n",
    "## Creating your own custom time-series spectra"
   ]
  },
  {
   "cell_type": "markdown",
   "metadata": {},
   "source": [
    "To create your own custom time-series spectra, you must first create new input YAML files as required by the ULLYSES code. You can find a [template form](https://github.com/spacetelescope/ullyses-utils/blob/main/src/ullyses_utils/data/timeseries/tss_template.yaml) in the same `ullyses_utils` repo, as shown below. You would simply need to modify specific parameters as required for your data. The name of the YAML file must follow the format `<target>_<instrument>.yaml`, and be lowercase, in order to be properly processed *automatically* (the target must be a ULLYSES target)\n",
    "\n",
    "The template is shown below, along with comments that explain various parameters."
   ]
  },
  {
   "cell_type": "code",
   "execution_count": null,
   "metadata": {},
   "outputs": [],
   "source": [
    "utils_dir = ullyses_utils.__path__[0]\n",
    "template = os.path.join(utils_dir, f\"data/timeseries/tss_template.yaml\")\n",
    "with open(template, \"r\") as f:\n",
    "    contents = f.read()\n",
    "    print(contents)"
   ]
  },
  {
   "cell_type": "markdown",
   "metadata": {},
   "source": [
    "***"
   ]
  },
  {
   "cell_type": "markdown",
   "metadata": {},
   "source": [
    "## Additional Resources\n",
    "\n",
    "- [ULLYSES](https://ullyses.stsci.edu)\n",
    "- [MAST API](https://mast.stsci.edu/api/v0/index.html)"
   ]
  },
  {
   "cell_type": "markdown",
   "metadata": {
    "slideshow": {
     "slide_type": "slide"
    }
   },
   "source": [
    "## About this Notebook\n",
    "For support, contact us at the [ULLYSES Helpdesk](https://stsci.service-now.com/hst?id=sc_cat_item&sys_id=a3b8ec5edbb7985033b55dd5ce961990&sysparm_category=ac85189bdb4683c033b55dd5ce96199c).\n",
    "\n",
    "**Author:**  Jo Taylor \\\n",
    "**Updated On:** March 7, 2024"
   ]
  },
  {
   "cell_type": "markdown",
   "metadata": {},
   "source": [
    "## Citations\n",
    "* See the [ULLYSES website](https://ullyses.stsci.edu/ullyses-cite.html) for citation guidelines.\n"
   ]
  },
  {
   "cell_type": "markdown",
   "metadata": {},
   "source": [
    "***"
   ]
  },
  {
   "cell_type": "markdown",
   "metadata": {},
   "source": [
    "[Top of Page](#top)\n",
    "<img style=\"float: right;\" src=\"https://raw.githubusercontent.com/spacetelescope/notebooks/master/assets/stsci_pri_combo_mark_horizonal_white_bkgd.png\" alt=\"Space Telescope Logo\" width=\"200px\"/> "
   ]
  }
 ],
 "metadata": {
  "kernelspec": {
   "display_name": "Python 3 (ipykernel)",
   "language": "python",
   "name": "python3"
  },
  "language_info": {
   "codemirror_mode": {
    "name": "ipython",
    "version": 3
   },
   "file_extension": ".py",
   "mimetype": "text/x-python",
   "name": "python",
   "nbconvert_exporter": "python",
   "pygments_lexer": "ipython3",
   "version": "3.9.18"
  }
 },
 "nbformat": 4,
 "nbformat_minor": 4
}
