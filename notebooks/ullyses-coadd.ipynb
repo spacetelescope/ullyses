{
 "cells": [
  {
   "cell_type": "markdown",
   "metadata": {
    "slideshow": {
     "slide_type": "slide"
    }
   },
   "source": [
    "<a id=\"top\"></a>\n",
    "# Using the ULLYSES coaddition algorithm"
   ]
  },
  {
   "cell_type": "markdown",
   "metadata": {
    "slideshow": {
     "slide_type": "skip"
    }
   },
   "source": [
    "***"
   ]
  },
  {
   "cell_type": "markdown",
   "metadata": {},
   "source": [
    "## Learning Goals\n",
    "\n",
    "**NOTE**: It is recommended that you read/work through the `ullyses-walkthrough.ipynb` first before running this notebook.\n",
    "\n",
    "By the end of this tutorial, you will:\n",
    "\n",
    "- learn how to create ULLYSES coadded and abutted products\n",
    "- learn how to create coadded and abutted products for non-ULLYSES data"
   ]
  },
  {
   "cell_type": "markdown",
   "metadata": {},
   "source": [
    "## Table of Contents\n",
    "**0. [Introduction](#introduction)**\n",
    "\n",
    "**1. [Obtain Data](#sec1)**\n",
    "\n",
    "**2. [Coadding and abutting ULLYSES data](#sec2)**\n",
    "\n",
    "\\- 2.1 [Coadding data in a directory](#sec21)\n",
    "\n",
    "\\- 2.2 [Coadding a list of data files](#sec22) \n",
    "\n",
    "\\- 2.2 [Inspect output products](#sec23)\n",
    "\n",
    "**3. [Coadding non-ULLYESS data](#sec3)**\n",
    "\n",
    "\\- 3.1 [Inspect output products](#sec31)"
   ]
  },
  {
   "cell_type": "markdown",
   "metadata": {
    "slideshow": {
     "slide_type": "slide"
    }
   },
   "source": [
    "<a id=\"introduction\"></a>\n",
    "## Introduction\n",
    "\n",
    "The Hubble Space Telescope’s (HST) Ultraviolet Legacy Library of Young Stars as Essential Standards ([ULLYSES](https://ullyses.stsci.edu/index.html) program has devoted approximately 1,000 HST orbits to the production of an ultraviolet spectroscopic library of young high- and low-mass stars in the local universe. \n",
    "\n",
    "The ULLYSES team produces several types of High Level Science Products (HLSPs). Products are made using both archival HST/FUSE data and new HST observations obtained through the ULLYSES program. Data of the same target and same grating are coadded, as described [here](https://ullyses.stsci.edu/ullyses-data-description.html#CoaddSpectra). Data of the same target, but different gratings and/or instruments, are abutted as described [here](https://ullyses.stsci.edu/ullyses-data-description.html#AbutSpectra).\n",
    "\n",
    "In this notebook we will show how to create coadded and abutted spectral products for ULLYSES data, and coadded products for non-ULLYSES data."
   ]
  },
  {
   "cell_type": "markdown",
   "metadata": {
    "slideshow": {
     "slide_type": "slide"
    }
   },
   "source": [
    "### Imports\n",
    "We need only access to basic python packages, astropy for reading FITS files, matplotlib for plotting, and the ullyses package to coadd and abut data."
   ]
  },
  {
   "cell_type": "code",
   "execution_count": null,
   "metadata": {
    "slideshow": {
     "slide_type": "fragment"
    }
   },
   "outputs": [],
   "source": [
    "import os\n",
    "import glob\n",
    "from astropy.io import fits\n",
    "\n",
    "import matplotlib.pyplot as plt\n",
    "%matplotlib widget\n",
    "#%matplotlib inline\n",
    "plt.rcParams['figure.figsize'] = 10, 6\n",
    "plt.style.use('seaborn-v0_8-colorblind')\n",
    "\n",
    "from ullyses.ullyses_coadd_abut_wrapper import main, coadd_and_abut_files\n",
    "from ullyses.generic_coadd_wrapper import coadd_files"
   ]
  },
  {
   "cell_type": "markdown",
   "metadata": {},
   "source": [
    "***"
   ]
  },
  {
   "cell_type": "markdown",
   "metadata": {},
   "source": [
    "<a id=\"sec1\"></a>\n",
    "## Obtain Data"
   ]
  },
  {
   "cell_type": "markdown",
   "metadata": {},
   "source": [
    "To download data, we will retrieve it directly from MAST. For this example, we will simply download the ULLYSES observations of target AV-175. This includes three COS/G130M cenwave 1291 datasets and five COS/G160M cenwave 1611 datasets.\n",
    "\n",
    "These datasets will download into a new folder in your current working directory, called `coadd_notebook_download/`."
   ]
  },
  {
   "cell_type": "code",
   "execution_count": null,
   "metadata": {},
   "outputs": [],
   "source": [
    "!curl -L -X GET \"https://mast.stsci.edu/search/hst/api/v0.1/retrieve_product?product_name=LEEY3C010%2Fleey3ce5q_x1d.fits\" --output \"coadd_notebook_download/leey3ce5q_x1d.fits\" --fail --create-dirs\n",
    "!curl -L -X GET \"https://mast.stsci.edu/search/hst/api/v0.1/retrieve_product?product_name=LEEY3C010%2Fleey3ce8q_x1d.fits\" --output \"coadd_notebook_download/leey3ce8q_x1d.fits\" --fail --create-dirs\n",
    "!curl -L -X GET \"https://mast.stsci.edu/search/hst/api/v0.1/retrieve_product?product_name=LEEY3C010%2Fleey3cefq_x1d.fits\" --output \"coadd_notebook_download/leey3cefq_x1d.fits\" --fail --create-dirs\n",
    "!curl -L -X GET \"https://mast.stsci.edu/search/hst/api/v0.1/retrieve_product?product_name=LEEY3C020%2Fleey3cejq_x1d.fits\" --output \"coadd_notebook_download/leey3cejq_x1d.fits\" --fail --create-dirs\n",
    "!curl -L -X GET \"https://mast.stsci.edu/search/hst/api/v0.1/retrieve_product?product_name=LEEY3C020%2Fleey3cemq_x1d.fits\" --output \"coadd_notebook_download/leey3cemq_x1d.fits\" --fail --create-dirs\n",
    "!curl -L -X GET \"https://mast.stsci.edu/search/hst/api/v0.1/retrieve_product?product_name=LEEY3C020%2Fleey3cepq_x1d.fits\" --output \"coadd_notebook_download/leey3cepq_x1d.fits\" --fail --create-dirs\n",
    "!curl -L -X GET \"https://mast.stsci.edu/search/hst/api/v0.1/retrieve_product?product_name=LEEY3C020%2Fleey3cesq_x1d.fits\" --output \"coadd_notebook_download/leey3cesq_x1d.fits\" --fail --create-dirs\n",
    "!curl -L -X GET \"https://mast.stsci.edu/search/hst/api/v0.1/retrieve_product?product_name=LEEY3C020%2Fleey3ceyq_x1d.fits\" --output \"coadd_notebook_download/leey3ceyq_x1d.fits\" --fail --create-dirs"
   ]
  },
  {
   "cell_type": "markdown",
   "metadata": {},
   "source": [
    "***"
   ]
  },
  {
   "cell_type": "markdown",
   "metadata": {},
   "source": [
    "<a id=\"sec2\"></a>\n",
    "## Coadd and abut ULLYSES data"
   ]
  },
  {
   "cell_type": "markdown",
   "metadata": {},
   "source": [
    "To create coadded and abutted products for ULLYSES data, specific information about the ULLYSES target is looked up on-the-fly during processing. This includes the officially designated target name and coordinates, which are stored in the output header.\n",
    "\n",
    "Data can be coadded and abutted by either specifying:\n",
    "1. An input directory, or\n",
    "2. A list of input files (which could be located across different directories)\n",
    "\n",
    "Additionally, you must supply an output directory. Optional arguments include: a version number for the output filenames and specifying whether existing products should be overwritten.\n",
    "\n",
    "Output filenames have the form:\n",
    "\n",
    "`hlsp_ullyses_<telescope>_<instrument>_<target>_<opt_elem>_<version>_<product-type>`\n",
    "\n",
    "where\n",
    "\n",
    "`<target>` is the target name\n",
    "\n",
    "`<version>` is the data release identifier (dr1, dr2, etc.)\n",
    "\n",
    "`<telescope>`, `<instrument>`, `<opt_elem>`, and `<product-type>` are populated as specified [here](https://ullyses.stsci.edu/ullyses-data-description.html#productDescrip)."
   ]
  },
  {
   "cell_type": "markdown",
   "metadata": {},
   "source": [
    "<a id=\"sec21\"></a>\n",
    "### Coadding data in a directory"
   ]
  },
  {
   "cell_type": "markdown",
   "metadata": {},
   "source": [
    "We will first create coadded and abutted products by supplying a single directory that contains the data you want to coadd. Note, it is expected that **only** the data you want to coadd are in this directory. The input to `main` is our directory, `indir`."
   ]
  },
  {
   "cell_type": "code",
   "execution_count": null,
   "metadata": {},
   "outputs": [],
   "source": [
    "# First define the input and output directories\n",
    "indir = \"coadd_notebook_download\"\n",
    "indir_method_outdir = \"coadd_ullyses_indir\""
   ]
  },
  {
   "cell_type": "code",
   "execution_count": null,
   "metadata": {},
   "outputs": [],
   "source": [
    "main(indir, indir_method_outdir, version=\"dr7\", clobber=True)"
   ]
  },
  {
   "cell_type": "code",
   "execution_count": null,
   "metadata": {},
   "outputs": [],
   "source": [
    "ls coadd_ullyses_indir"
   ]
  },
  {
   "cell_type": "markdown",
   "metadata": {},
   "source": [
    "Notice from the output that a `cspec`, `apsec`, and `preview-spec` file were created for our target, AV 224."
   ]
  },
  {
   "cell_type": "markdown",
   "metadata": {},
   "source": [
    "<a id=\"sec22\"></a>\n",
    "### Coadding a list of data files"
   ]
  },
  {
   "cell_type": "markdown",
   "metadata": {},
   "source": [
    "Next, we will create coadded and abutted products by supplying specific datasets. Notice here that we call the function `coadd_and_abut_files` to supply our input rather than `main` like we did above."
   ]
  },
  {
   "cell_type": "code",
   "execution_count": null,
   "metadata": {},
   "outputs": [],
   "source": [
    "# First define the input and output directories\n",
    "indir = \"coadd_notebook_download\"\n",
    "infiles_method_outdir = \"coadd_ullyses_infiles\""
   ]
  },
  {
   "cell_type": "code",
   "execution_count": null,
   "metadata": {},
   "outputs": [],
   "source": [
    "# Determine list of input files on the fly, or you could specify a specific list\n",
    "infiles = glob.glob(os.path.join(indir, \"*fits\"))\n",
    "coadd_and_abut_files(infiles, infiles_method_outdir, version=\"dr7\", clobber=True)"
   ]
  },
  {
   "cell_type": "code",
   "execution_count": null,
   "metadata": {},
   "outputs": [],
   "source": [
    "ls coadd_ullyses_infiles"
   ]
  },
  {
   "cell_type": "markdown",
   "metadata": {},
   "source": [
    "We can again see that `cspec`, `aspec`, and `preview-spec` files were created."
   ]
  },
  {
   "cell_type": "markdown",
   "metadata": {},
   "source": [
    "<a id=\"sec23\"></a>\n",
    "### Inspect output products"
   ]
  },
  {
   "cell_type": "markdown",
   "metadata": {},
   "source": [
    "First, let's ensure that the products created using both methods above are identical."
   ]
  },
  {
   "cell_type": "code",
   "execution_count": null,
   "metadata": {},
   "outputs": [],
   "source": [
    "indir_products = glob.glob(os.path.join(indir_method_outdir, \"*fits\"))\n",
    "for indir_item in indir_products:\n",
    "    infiles_item = os.path.join(infiles_method_outdir, os.path.basename(indir_item))\n",
    "    fd = fits.FITSDiff(indir_item, infiles_item)\n",
    "    print(fd.report())"
   ]
  },
  {
   "cell_type": "markdown",
   "metadata": {},
   "source": [
    "Now let's compare the input x1d files to the output coadded and abutted products. We can find the files that contributed to product in the `PROVENANCE`, or 2nd, extension."
   ]
  },
  {
   "cell_type": "code",
   "execution_count": null,
   "metadata": {},
   "outputs": [],
   "source": [
    "# Let's look at the two level2 products (coadds), and the level4 product (all modes, abutted) product.\n",
    "products = glob.glob(os.path.join(indir_method_outdir, \"*fits\"))\n",
    "for prod in products:\n",
    "    if fits.getval(prod, \"HLSP_LVL\") not in [2, 4]:\n",
    "        continue\n",
    "    fig,ax = plt.subplots(1, 1)\n",
    "    prodname = os.path.basename(prod)\n",
    "    prov = fits.getdata(prod, 2)\n",
    "    prod_data = fits.getdata(prod)\n",
    "    input_files = prov[\"filename\"]\n",
    "    # This just gives us the basename of the input files, we need to add the directory ourselves.\n",
    "    for infile in input_files:\n",
    "        infile_path = os.path.join(indir, infile)\n",
    "        infile_data = fits.getdata(infile_path)\n",
    "        grating = fits.getval(infile_path, \"opt_elem\")\n",
    "        plt.plot(infile_data[\"wavelength\"].flatten(), infile_data[\"flux\"].flatten(), alpha=.6, label=f\"{infile}, {grating}\")\n",
    "    ax.plot(prod_data[\"wavelength\"].flatten(), prod_data[\"flux\"].flatten(), alpha=.6, color=\"black\", label=prodname)\n",
    "    ax.set_xlabel(\"Wavelength [$\\mathrm{\\AA}$]\")\n",
    "    ax.set_ylabel(\"Flux [erg/s/cm^2/$\\mathrm{\\AA}$]\")\n",
    "    ax.legend()\n",
    "    ax.set_title(prodname)"
   ]
  },
  {
   "cell_type": "markdown",
   "metadata": {},
   "source": [
    "In all cases, we can see the SNR improvement in the coadded products are compared to the original input data."
   ]
  },
  {
   "cell_type": "markdown",
   "metadata": {},
   "source": [
    "<a id=\"sec3\"></a>\n",
    "## Coadd non-ULLYSES data"
   ]
  },
  {
   "cell_type": "markdown",
   "metadata": {},
   "source": [
    "Creating coadded and abutted products for non-ULLYSES data is similar, but only supports supplying an input list of files, rather than an input directory. You must supply an output directory. \n",
    "\n",
    "Optional arguments include: an output filename, and specifying whether existing products should be overwritten. **NOTE**: If an output filename is provided, all input files to be coadded must be of a single grating. If an output filename is not specified, or is set to `None`, one will be constructed on-the-fly of the format `<insrument>_<grating>_coadd.fits`."
   ]
  },
  {
   "cell_type": "code",
   "execution_count": null,
   "metadata": {},
   "outputs": [],
   "source": [
    "# First define the input and output directories\n",
    "indir = \"coadd_notebook_download\"\n",
    "generic_outdir = \"coadd_generic_infiles\""
   ]
  },
  {
   "cell_type": "code",
   "execution_count": null,
   "metadata": {},
   "outputs": [],
   "source": [
    "# Determine list of input files on the fly, or you could specify a specific list\n",
    "infiles = glob.glob(os.path.join(indir, \"*fits\"))\n",
    "coadd_files(infiles, generic_outdir, outfile=None, clobber=True)"
   ]
  },
  {
   "cell_type": "markdown",
   "metadata": {},
   "source": [
    "From the above output we can see that two coadd files were made, one using COS G130M data and one using COS G160M data."
   ]
  },
  {
   "cell_type": "markdown",
   "metadata": {},
   "source": [
    "<a id=\"sec31\"></a>\n",
    "### Inspect output products"
   ]
  },
  {
   "cell_type": "markdown",
   "metadata": {},
   "source": [
    "Notice how the output filename is different when using the generic coadd method, e.g. `cos_g130m_coadd.fits` vs. `hlsp_ullyses_hst_cos_av-224_g130m_dr7_cspec.fits`. \n",
    "\n",
    "Let's see how the G130M output file differs from the one we made using the ULLYSES coadd method."
   ]
  },
  {
   "cell_type": "code",
   "execution_count": null,
   "metadata": {},
   "outputs": [],
   "source": [
    "generic_coadd = \"coadd_generic_infiles/cos_g130m_coadd.fits\"\n",
    "ullyses_coadd = os.path.join(infiles_method_outdir, \"hlsp_ullyses_hst_cos_av-224_g130m_dr7_cspec.fits\")\n",
    "fd = fits.FITSDiff(generic_coadd, ullyses_coadd)\n",
    "print(fd.report())"
   ]
  },
  {
   "cell_type": "markdown",
   "metadata": {},
   "source": [
    "As mentioned before, some metadata information is looked up on-the-fly for ULLYSES data. This includes 'official' coordinates and target name of the input target, as can be seen in the differences above. Additionally, keywords specific to the ULLYSES HLSPs are missing in the generic coadded product.\n",
    "\n",
    "Let's look at the data itself though. It should be identical."
   ]
  },
  {
   "cell_type": "code",
   "execution_count": null,
   "metadata": {},
   "outputs": [],
   "source": [
    "generic_data = fits.getdata(generic_coadd)\n",
    "ullyses_data = fits.getdata(ullyses_coadd)\n",
    "fig,axes = plt.subplots(2, 1, sharex=True)\n",
    "axes = axes.flatten()\n",
    "axes[0].plot(generic_data[\"wavelength\"].flatten(), generic_data[\"flux\"].flatten(), alpha=.6, color=\"red\", label=\"Generic G130M coadd\")\n",
    "axes[0].plot(ullyses_data[\"wavelength\"].flatten(), ullyses_data[\"flux\"].flatten(), alpha=.6, color=\"black\", label=\"ULLYSES G130M coadd\")\n",
    "axes[0].legend()\n",
    "axes[0].set_xlabel(\"Wavelength [$\\mathrm{\\AA}$]\")\n",
    "axes[0].set_ylabel(\"Flux [erg/s/cm^2/$\\mathrm{\\AA}$]\")\n",
    "axes[0].set_title(\"G130M Coadds\")\n",
    "axes[0].set_xlim(generic_data[\"wavelength\"].flatten().min(), generic_data[\"wavelength\"].flatten().max())\n",
    "\n",
    "diff = generic_data[\"flux\"].flatten() - ullyses_data[\"flux\"].flatten()\n",
    "axes[1].plot(diff)\n",
    "axes[1].set_ylabel(\"Difference between coadds\")\n",
    "axes[1].set_title(\"Difference between G130M coadds\")\n",
    "fig.tight_layout()"
   ]
  },
  {
   "cell_type": "markdown",
   "metadata": {},
   "source": [
    "The difference between the two coadds is identically zero!"
   ]
  },
  {
   "cell_type": "markdown",
   "metadata": {},
   "source": [
    "***"
   ]
  },
  {
   "cell_type": "markdown",
   "metadata": {},
   "source": [
    "## Additional Resources\n",
    "\n",
    "- [ULLYSES](https://ullyses.stsci.edu)\n",
    "- [MAST API](https://mast.stsci.edu/api/v0/index.html)"
   ]
  },
  {
   "cell_type": "markdown",
   "metadata": {
    "slideshow": {
     "slide_type": "slide"
    }
   },
   "source": [
    "## About this Notebook\n",
    "For support, contact us at the [ULLYSES Helpdesk](https://stsci.service-now.com/hst?id=sc_cat_item&sys_id=a3b8ec5edbb7985033b55dd5ce961990&sysparm_category=ac85189bdb4683c033b55dd5ce96199c).\n",
    "\n",
    "**Author:**  Jo Taylor and Elaine M Frazer \\\n",
    "**Updated On:** March 9, 2024"
   ]
  },
  {
   "cell_type": "markdown",
   "metadata": {},
   "source": [
    "## Citations\n",
    "* See the [ULLYSES website](https://ullyses.stsci.edu/ullyses-cite.html) for citation guidelines.\n"
   ]
  },
  {
   "cell_type": "markdown",
   "metadata": {},
   "source": [
    "***"
   ]
  },
  {
   "cell_type": "markdown",
   "metadata": {},
   "source": [
    "[Top of Page](#top)\n",
    "<img style=\"float: right;\" src=\"https://raw.githubusercontent.com/spacetelescope/notebooks/master/assets/stsci_pri_combo_mark_horizonal_white_bkgd.png\" alt=\"Space Telescope Logo\" width=\"200px\"/> "
   ]
  }
 ],
 "metadata": {
  "kernelspec": {
   "display_name": "Python 3 (ipykernel)",
   "language": "python",
   "name": "python3"
  },
  "language_info": {
   "codemirror_mode": {
    "name": "ipython",
    "version": 3
   },
   "file_extension": ".py",
   "mimetype": "text/x-python",
   "name": "python",
   "nbconvert_exporter": "python",
   "pygments_lexer": "ipython3",
   "version": "3.9.18"
  }
 },
 "nbformat": 4,
 "nbformat_minor": 4
}
