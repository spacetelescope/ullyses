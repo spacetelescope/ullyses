{
 "cells": [
  {
   "cell_type": "markdown",
   "id": "19a052a8-d7d7-46bc-8280-802b513946bb",
   "metadata": {},
   "source": [
    "<a id=\"top\"></a>\n",
    "# Environment Set up Test for ULLYSES notebooks\n",
    "***\n",
    "\n",
    "This notebook can be used to ensure that everything in your enviornment has been installed correctly. Instructions about how to install conda and the stenv environment can be found at: https://stenv.readthedocs.io/en/latest/getting_started.html. Once conda is installed, follow the documentation outlined in the [README](https://github.com/spacetelescope/ullyses?tab=readme-ov-file#installation) of this repository. If everything is working properly, this notebook should run to completion in each cell without any errors and the final cell should have a ullyses version >= 4.1.0 and a ullyses_utils version of >= 3.1.0."
   ]
  },
  {
   "cell_type": "markdown",
   "id": "cc5107a5-179e-45d9-a50b-514f8ebd1f68",
   "metadata": {},
   "source": [
    "First, ensure you are in the conda enviornment that you have created. If you are not in the correct environment, use the command `conda activate <env_name>` to switch into the correct enviornment. Also ensure that your python version is 3.9 or later."
   ]
  },
  {
   "cell_type": "code",
   "execution_count": null,
   "id": "610eec9f-22f0-4ff3-8748-52e243e42ee2",
   "metadata": {},
   "outputs": [],
   "source": [
    "# conda env info; the enviornment you are in should be indicated by a \"*\" next to the name.\n",
    "!conda info --env"
   ]
  },
  {
   "cell_type": "code",
   "execution_count": null,
   "id": "c9fcc007-d05d-4ccd-8639-a5c09361ade7",
   "metadata": {},
   "outputs": [],
   "source": [
    "# python 3.9 or later\n",
    "!python --version"
   ]
  },
  {
   "cell_type": "markdown",
   "id": "c8a66909-6253-4dbc-b8a9-7fd53eec46c7",
   "metadata": {},
   "source": [
    "Next, import all of the packages used in the notebooks in this repository. If any of the cells give an error, you should be able to use `pip install <package>` to install the missing package."
   ]
  },
  {
   "cell_type": "code",
   "execution_count": null,
   "id": "d6051b7f-59cb-4165-ba4f-c45093a22c0a",
   "metadata": {},
   "outputs": [],
   "source": [
    "# astropy\n",
    "from astropy.io import fits\n",
    "from astropy.wcs import WCS\n",
    "from astropy.table import Table"
   ]
  },
  {
   "cell_type": "code",
   "execution_count": null,
   "id": "4c9d1325-6936-4c4b-939a-fd70b5e0a572",
   "metadata": {},
   "outputs": [],
   "source": [
    "# numpy\n",
    "import numpy as np"
   ]
  },
  {
   "cell_type": "code",
   "execution_count": null,
   "id": "9e248036-3767-451b-b5c6-585be2388752",
   "metadata": {},
   "outputs": [],
   "source": [
    "# misc\n",
    "import sys\n",
    "import pprint\n",
    "from collections import Counter"
   ]
  },
  {
   "cell_type": "code",
   "execution_count": null,
   "id": "79585ddd-5cb4-4334-937f-2098219abdc2",
   "metadata": {},
   "outputs": [],
   "source": [
    "# path utilities \n",
    "import os\n",
    "from pathlib import Path\n",
    "import shutil\n",
    "import glob"
   ]
  },
  {
   "cell_type": "code",
   "execution_count": null,
   "id": "566ca3e4-f2d2-4f3f-a7c5-a4ecbb95f255",
   "metadata": {},
   "outputs": [],
   "source": [
    "# plotting\n",
    "import matplotlib.pyplot as plt\n",
    "%matplotlib widget\n",
    "plt.rcParams['figure.figsize'] = 10, 6\n",
    "plt.style.use('seaborn-v0_8-colorblind')\n",
    "plt.style.use('tableau-colorblind10')"
   ]
  },
  {
   "cell_type": "markdown",
   "id": "04d57165-0e4a-4469-908c-2fdb6f9473c9",
   "metadata": {},
   "source": [
    "If the `hstcal` package is not installed, follow installation instructions at: https://stenv.readthedocs.io/en/latest/getting_started.html#choose-an-stenv-release "
   ]
  },
  {
   "cell_type": "code",
   "execution_count": null,
   "id": "f122b1fd-b5a9-44e9-a504-97c6c5650545",
   "metadata": {},
   "outputs": [],
   "source": [
    "# in hstcal package (contains calstis)\n",
    "import stistools"
   ]
  },
  {
   "cell_type": "markdown",
   "id": "e7d9ff99-ba6c-478c-961f-b714ed6b213f",
   "metadata": {},
   "source": [
    "All ULLYSES packages should be installed with `pip install ullyses`."
   ]
  },
  {
   "cell_type": "code",
   "execution_count": null,
   "id": "0fcb4f62-5d19-4755-8ebd-a43faade0e10",
   "metadata": {},
   "outputs": [],
   "source": [
    "# ULLYSES functions\n",
    "import ullyses\n",
    "import ullyses_utils\n",
    "\n",
    "from ullyses import make_stis_x1ds\n",
    "from ullyses.ullyses_coadd_abut_wrapper import main, coadd_and_abut_files\n",
    "from ullyses.generic_coadd_wrapper import coadd_files\n",
    "from ullyses.timeseries_wrapper import exp_star\n",
    "from ullyses.calibrate_stis_data import calibrate_stis_data\n",
    "\n",
    "from ullyses_utils.match_aliases import match_aliases\n",
    "from ullyses_utils.select_pids import select_all_pids, select_pids\n",
    "from ullyses_utils.readwrite_yaml import read_config"
   ]
  },
  {
   "cell_type": "code",
   "execution_count": null,
   "id": "f884956c-8111-4289-8733-e7c8443d2f8b",
   "metadata": {},
   "outputs": [],
   "source": [
    "print(f\"ullyses: {ullyses.__version__} should be >= 4.1.0\")\n",
    "print(f\"ullyses_utils: {ullyses_utils.__version__} should be >= 3.1.0\")"
   ]
  },
  {
   "cell_type": "markdown",
   "id": "d05f83f1-7dd0-4b56-ad69-9c24a72c7332",
   "metadata": {},
   "source": [
    "If everything above ran to completion, and the version numbers all match, you are ready to run the other [ULLYSES notebooks](https://github.com/spacetelescope/ullyses/tree/main/notebooks)!\n"
   ]
  },
  {
   "cell_type": "markdown",
   "id": "580aeeee-951f-4a1e-9e7b-21ad81d5a2e8",
   "metadata": {},
   "source": [
    "***\n",
    "\n",
    "## Additional Resources\n",
    "\n",
    "- [ULLYSES](https://ullyses.stsci.edu)\n",
    "- [MAST API](https://mast.stsci.edu/api/v0/index.html)\n",
    "\n",
    "## About this Notebook\n",
    "For support, contact us at the [ULLYSES Helpdesk](https://stsci.service-now.com/hst?id=sc_cat_item&sys_id=a3b8ec5edbb7985033b55dd5ce961990&sysparm_category=ac85189bdb4683c033b55dd5ce96199c).\n",
    "\n",
    "**Author:**  Rachel Plesha, Jo Taylor and Elaine M Frazer \\\n",
    "**Updated On:** March 10, 2024\n",
    "\n",
    "## Citations\n",
    "* See the [ULLYSES website](https://ullyses.stsci.edu/ullyses-cite.html) for citation guidelines."
   ]
  },
  {
   "cell_type": "markdown",
   "id": "ee91133a-6a7d-4cfe-9785-1418fabec0f9",
   "metadata": {},
   "source": [
    "***\n",
    "[Top of Page](#top)\n",
    "<img style=\"float: right;\" src=\"https://raw.githubusercontent.com/spacetelescope/notebooks/master/assets/stsci_pri_combo_mark_horizonal_white_bkgd.png\" alt=\"Space Telescope Logo\" width=\"200px\"/> "
   ]
  }
 ],
 "metadata": {
  "kernelspec": {
   "display_name": "Python 3 (ipykernel)",
   "language": "python",
   "name": "python3"
  },
  "language_info": {
   "codemirror_mode": {
    "name": "ipython",
    "version": 3
   },
   "file_extension": ".py",
   "mimetype": "text/x-python",
   "name": "python",
   "nbconvert_exporter": "python",
   "pygments_lexer": "ipython3",
   "version": "3.9.18"
  }
 },
 "nbformat": 4,
 "nbformat_minor": 5
}
