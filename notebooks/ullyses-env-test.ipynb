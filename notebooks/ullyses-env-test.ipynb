{
 "cells": [
  {
   "cell_type": "markdown",
   "id": "19a052a8-d7d7-46bc-8280-802b513946bb",
   "metadata": {},
   "source": [
    "# Environment Set up Test for ULLYSES notebooks\n",
    "\n",
    "This notebook can be used to ensure that everything in your enviornment has been installed correctly, following the documentation outlined in the [README](https://github.com/spacetelescope/ullyses?tab=readme-ov-file#installation) of this repository. If everything is working properly, this notebook should run to completion in each cell without any errors. The final cell should have a ullyses version >= 4.1.0 and a ullyses_utils version of >= 3.1.0."
   ]
  },
  {
   "cell_type": "code",
   "execution_count": null,
   "id": "d6051b7f-59cb-4165-ba4f-c45093a22c0a",
   "metadata": {},
   "outputs": [],
   "source": [
    "# astropy\n",
    "from astropy.io import fits\n",
    "from astropy.wcs import WCS\n",
    "from astropy.table import Table"
   ]
  },
  {
   "cell_type": "code",
   "execution_count": null,
   "id": "4c9d1325-6936-4c4b-939a-fd70b5e0a572",
   "metadata": {},
   "outputs": [],
   "source": [
    "# numpy\n",
    "import numpy as np"
   ]
  },
  {
   "cell_type": "code",
   "execution_count": null,
   "id": "9e248036-3767-451b-b5c6-585be2388752",
   "metadata": {},
   "outputs": [],
   "source": [
    "# misc\n",
    "import sys\n",
    "import pprint\n",
    "from collections import Counter"
   ]
  },
  {
   "cell_type": "code",
   "execution_count": null,
   "id": "79585ddd-5cb4-4334-937f-2098219abdc2",
   "metadata": {},
   "outputs": [],
   "source": [
    "# path utilities \n",
    "import os\n",
    "from pathlib import Path\n",
    "import shutil\n",
    "import glob"
   ]
  },
  {
   "cell_type": "code",
   "execution_count": null,
   "id": "566ca3e4-f2d2-4f3f-a7c5-a4ecbb95f255",
   "metadata": {},
   "outputs": [],
   "source": [
    "# plotting\n",
    "import matplotlib.pyplot as plt\n",
    "%matplotlib widget\n",
    "plt.rcParams['figure.figsize'] = 10, 6\n",
    "plt.style.use('seaborn-v0_8-colorblind')"
   ]
  },
  {
   "cell_type": "code",
   "execution_count": null,
   "id": "0fcb4f62-5d19-4755-8ebd-a43faade0e10",
   "metadata": {},
   "outputs": [],
   "source": [
    "# ULLYSES functions\n",
    "import ullyses\n",
    "from ullyses.ullyses_coadd_abut_wrapper import main, coadd_and_abut_files\n",
    "from ullyses.generic_coadd_wrapper import coadd_files\n",
    "from ullyses.calibrate_stis_data import calibrate_stis_data\n",
    "from ullyses import make_stis_x1ds\n",
    "\n",
    "import ullyses_utils\n",
    "from ullyses_utils.match_aliases import match_aliases\n",
    "from ullyses_utils.select_pids import select_all_pids, select_pids\n",
    "from ullyses_utils.readwrite_yaml import read_config\n",
    "from ullyses_utils.readwrite_yaml import read_config\n",
    "from ullyses.timeseries_wrapper import exp_star"
   ]
  },
  {
   "cell_type": "code",
   "execution_count": null,
   "id": "f884956c-8111-4289-8733-e7c8443d2f8b",
   "metadata": {},
   "outputs": [],
   "source": [
    "print(f\"ullyses: {ullyses.__version__} should be >= 4.1.0\")\n",
    "print(f\"ullyses_utils: {ullyses_utils.__version__} should be >= 3.1.0\")"
   ]
  },
  {
   "cell_type": "code",
   "execution_count": null,
   "id": "e1e09cf4-407f-4d03-a5e4-18af5bdc0268",
   "metadata": {},
   "outputs": [],
   "source": []
  }
 ],
 "metadata": {
  "kernelspec": {
   "display_name": "Python 3 (ipykernel)",
   "language": "python",
   "name": "python3"
  },
  "language_info": {
   "codemirror_mode": {
    "name": "ipython",
    "version": 3
   },
   "file_extension": ".py",
   "mimetype": "text/x-python",
   "name": "python",
   "nbconvert_exporter": "python",
   "pygments_lexer": "ipython3",
   "version": "3.9.18"
  }
 },
 "nbformat": 4,
 "nbformat_minor": 5
}
