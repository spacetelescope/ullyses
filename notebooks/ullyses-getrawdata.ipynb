{
 "cells": [
  {
   "cell_type": "markdown",
   "metadata": {
    "slideshow": {
     "slide_type": "slide"
    }
   },
   "source": [
    "<a id=\"top\"></a>\n",
    "# ULLYSES Data Download Tutorial"
   ]
  },
  {
   "cell_type": "markdown",
   "metadata": {
    "slideshow": {
     "slide_type": "skip"
    }
   },
   "source": [
    "***"
   ]
  },
  {
   "cell_type": "markdown",
   "metadata": {},
   "source": [
    "## Learning Goals\n",
    "\n",
    "By the end of this tutorial, you will:\n",
    "\n",
    "- Know how to use Astroquery to download ULLYSES HLSPs\n",
    "- Be able to use ullyses-utils.select_pids to get PIDs for desired subsets of ULLYSES programs, and know how to download those datasets\n",
    "- Understand where to find and how to download the files that went into a ULLYSES HLSP\n"
   ]
  },
  {
   "cell_type": "markdown",
   "metadata": {},
   "source": [
    "## Table of Contents\n",
    "**0. [Introduction](#introduction)**\n",
    "\n",
    "**1. [Downloading HLSP Files Using Astroquery](#astroquery)**\n",
    "\n",
    "**2. [Using ullyses_utils.select_pids](#selectpids)**\n",
    "\n",
    "**3. [Downloading HLSP Constiuent Raw Data Files](#constiuent)**"
   ]
  },
  {
   "cell_type": "markdown",
   "metadata": {
    "slideshow": {
     "slide_type": "slide"
    }
   },
   "source": [
    "## Introduction\n",
    "The Hubble Space Telescope’s (HST) Ultraviolet Legacy Library of Young Stars as Essential Standards ([ULLYSES](https://ullyses.stsci.edu/index.html) program has devoted approximately 1,000 HST orbits to the production of an ultraviolet spectroscopic library of young high- and low-mass stars in the local universe. This Director’s Discretionary program has been designed to take advantage of HST’s unique UV capabilities, as both high- and low-mass stars feature different complex UV emission processes that strongly impact their surroundings, but are difficult to model. The UV emission from star formation is central to a wide range of vital astrophysical issues, ranging from cosmic reionization to the formation of planets.\n",
    "\n",
    "The ULLYSES program has uniformly sampled the fundamental astrophysical parameter space for each mass regime — including spectral type, luminosity class, and metallicity for massive OB stars (in the Magellanic Clouds and two other lower-metallicity nearby galaxies) and the mass, age, and disk accretion rate for low-mass T Tauri stars (in eight young Galactic associations). The data were gathered over a three-year period, from Cycle 27 through Cycle 29 (2020-2022).\n",
    "\n",
    "The ULLYSES team produces several types of High Level Science Products (HLSPs). Products are made using both archival data and new HST observations obtained through the ULLYSES program. Data products are available from the [ULLYSES website](https://ullyses.stsci.edu/ullyses-download.html) (HLSPs and contributing data), the [MAST Data Discovery Portal](https://mast.stsci.edu/) (HLSPs and contributing data), directly as a High-Level Science Product collection using the [DOI](https://archive.stsci.edu/hlsp/ullyses) (HLSPs only), or using the Python package [Astroquery](https://astroquery.readthedocs.io/en/latest/) to search for and download files from Python scripts you write.\n",
    "\n",
    "This notebook will guide users through downloading HLSPs and raw ULLYSES data through various means using Astroquery."
   ]
  },
  {
   "cell_type": "markdown",
   "metadata": {
    "slideshow": {
     "slide_type": "slide"
    }
   },
   "source": [
    "### Imports\n",
    "<!-- - *numpy* to handle array functions\n",
    "- *astropy.io fits* for accessing FITS files -->\n",
    "- *astropy.table Table* for creating tidy tables of the data\n",
    "<!-- - *matplotlib.pyplot* for plotting data -->\n",
    "- *Path* to create product and data directories\n",
    "- *shutil* to perform directory and file operations\n",
    "- *glob* to work with multiple files in our directories\n",
    "<!-- - *os* to interact with the operating system -->\n",
    "<!-- - *pandas* to support data analysis -->\n",
    "- *astroquery* to download HLSPs and raw data files"
   ]
  },
  {
   "cell_type": "code",
   "execution_count": null,
   "metadata": {
    "slideshow": {
     "slide_type": "fragment"
    }
   },
   "outputs": [],
   "source": [
    "# %matplotlib inline\n",
    "# import numpy as np\n",
    "# from astropy.io import fits\n",
    "# from astropy.wcs import WCS\n",
    "from astropy.table import Table\n",
    "# import matplotlib.pyplot as plt\n",
    "# plt.rcParams['figure.figsize']=10,6\n",
    "# plt.style.use('seaborn-v0_8-notebook')\n",
    "# import os\n",
    "# from pathlib import Path\n",
    "import shutil\n",
    "import glob\n",
    "from astroquery.mast import Observations\n",
    "\n",
    "# add some text to intro about how to install ullyses and ullyses utils!!\n",
    "\n",
    "from ullyses_utils.select_pids import select_all_pids, select_pids"
   ]
  },
  {
   "cell_type": "markdown",
   "metadata": {},
   "source": [
    "***"
   ]
  },
  {
   "cell_type": "markdown",
   "metadata": {},
   "source": [
    "<a id=\"astroquery\"></a>\n",
    "# Downloading HLSP Files Using Astroquery"
   ]
  },
  {
   "cell_type": "markdown",
   "metadata": {},
   "source": [
    "The `Observations` Class in Astroquery.mast has several different useful functions for searching and downloading data products from MAST. We can use the `query_criteria` function to first search out all ULLYSES HLSP data that is available on MAST using the search criteria `provenance_name='ULLYSES'` as follows:"
   ]
  },
  {
   "cell_type": "code",
   "execution_count": null,
   "metadata": {},
   "outputs": [],
   "source": [
    "search = Observations.query_criteria(provenance_name='ULLYSES')"
   ]
  },
  {
   "cell_type": "markdown",
   "metadata": {},
   "source": [
    "The above cell returns `search` which is an Astropy.Table that holds our search results. We can print the results next:"
   ]
  },
  {
   "cell_type": "code",
   "execution_count": null,
   "metadata": {
    "scrolled": true
   },
   "outputs": [],
   "source": [
    "# This down-selects the number of columns printed to just a few, which makes it easier to read\n",
    "search.pprint_include_names = ('target_name', 's_ra', 's_dec', 'proposal_id', 'instrument_name', 'filters')\n",
    "\n",
    "search.pprint()\n",
    "\n",
    "# To print all columns use:\n",
    "# search.pprint_all()\n",
    "\n",
    "# Or to print a single column use:\n",
    "# search['target_name'].pprint()"
   ]
  },
  {
   "cell_type": "markdown",
   "metadata": {},
   "source": [
    "As you can see, there are several results returned for the initial search. We can down-select our search by adding the name of the target we want, using the criteria `target_name='V505-ORI'`."
   ]
  },
  {
   "cell_type": "code",
   "execution_count": null,
   "metadata": {},
   "outputs": [],
   "source": [
    "search_target = Observations.query_criteria(target_name='V505-ORI', provenance_name='ULLYSES')"
   ]
  },
  {
   "cell_type": "markdown",
   "metadata": {},
   "source": [
    "Next, we use the function `get_product_list` with the input of the observation IDs that are returned from the query in the previous cell to get a table of all the data products that are available in MAST for these observations."
   ]
  },
  {
   "cell_type": "code",
   "execution_count": null,
   "metadata": {
    "scrolled": true
   },
   "outputs": [],
   "source": [
    "data_products = Observations.get_product_list(search_target['obsid'])\n",
    "print(data_products['productFilename'])"
   ]
  },
  {
   "cell_type": "markdown",
   "metadata": {},
   "source": [
    "Then, we can use the function `download_products` to download all the files from our search. The user can specify where to download the data products with `download_dir`. Note that we specify `extension=['fits']`; there are also `yaml` files that may be downloaded. You can add those by adding 'yaml' to the extension list. Note also that we must specify `obs_collection=['HLSP']` so that we only get the high level science products, and not the constiuent data. If you want both, you can delete the `obs_collection` specification altogether. "
   ]
  },
  {
   "cell_type": "code",
   "execution_count": null,
   "metadata": {
    "scrolled": true
   },
   "outputs": [],
   "source": [
    "output_dir = './v505-ori/'\n",
    "Observations.download_products(data_products, download_dir=output_dir, extension=['fits'], obs_collection=['HLSP'])"
   ]
  },
  {
   "cell_type": "markdown",
   "metadata": {},
   "source": [
    "All ULLYSES HLSP data products are now downloaded to your `download_dir` in the sub-directories starting with `mastDownload`. We can move these into a better folder structure using the following function."
   ]
  },
  {
   "cell_type": "code",
   "execution_count": null,
   "metadata": {},
   "outputs": [],
   "source": [
    "def mv_downloads(output_path):\n",
    "    # Specify the path to where the downloads were placed\n",
    "    mast_path = os.path.join(output_path, 'mastDownload/')\n",
    "    \n",
    "    # Get a list of all obs_id folders. Each folder contains the FITS files\n",
    "    obs_id_dirs = glob.glob(os.path.join(mast_path, '*', '*'))\n",
    "    \n",
    "    # Iterate through each of the sub-folders to change the path of each FITS file\n",
    "    for subdir in obs_id_dirs: \n",
    "    \n",
    "        # Get a list of all FITS files in the current ./mastDownload/*/<obs_id> folder\n",
    "        sub_files = glob.glob(subdir + '/*fits')\n",
    "    \n",
    "        # Iterating through each of these files to change their path individually:\n",
    "        # We will be moving them to the top level, ./v505-ori/ in this example\n",
    "        for file in sub_files: \n",
    "            original_path = os.path.join(obs_id_path, file)\n",
    "            new_path = os.path.join(output_path, file.split('/')[-1])\n",
    "            shutil.move(file, new_path)\n",
    "    \n",
    "    # Last, remove the mastDownload directory\n",
    "    shutil.rmtree(os.path.join(output_path, 'mastDownload/'))\n",
    "\n",
    "mv_downloads(output_dir)"
   ]
  },
  {
   "cell_type": "markdown",
   "metadata": {},
   "source": [
    "Now, all your HLSP files should be nice and tidy in your output directory!"
   ]
  },
  {
   "cell_type": "markdown",
   "metadata": {},
   "source": [
    "<a id=\"selectpids\"></a>\n",
    "# Using ullyses_utils.select_pids"
   ]
  },
  {
   "cell_type": "markdown",
   "metadata": {},
   "source": [
    "The `select_pids` script in `ullyses_utils` has two functions that allow users to select the PIDS of both ULLYSES-orbserved and archival datasets for specific sub-sets of data. For example, one can select a specific region or target type. We will show some examples of these selections next.\n",
    "\n",
    "The function `select_all_pids()` is useful for selecting out different target types across many regions. We can see more information in the functions docstring by typing the following:"
   ]
  },
  {
   "cell_type": "code",
   "execution_count": null,
   "metadata": {},
   "outputs": [],
   "source": [
    "select_all_pids?"
   ]
  },
  {
   "cell_type": "markdown",
   "metadata": {},
   "source": [
    "The function `select_pids` gives all the PIDs of a certain region regardless of target type. See the options in the docstring below:"
   ]
  },
  {
   "cell_type": "code",
   "execution_count": null,
   "metadata": {},
   "outputs": [],
   "source": [
    "select_pids?"
   ]
  },
  {
   "cell_type": "markdown",
   "metadata": {},
   "source": [
    "Example 1: select all ULLYSES PIDs"
   ]
  },
  {
   "cell_type": "code",
   "execution_count": null,
   "metadata": {},
   "outputs": [],
   "source": [
    "all_ullyses_pids = select_all_pids()\n",
    "print(all_ullyses_pids)"
   ]
  },
  {
   "cell_type": "markdown",
   "metadata": {},
   "source": [
    "Example 2: select all SMC and LMC targets and their extras"
   ]
  },
  {
   "cell_type": "code",
   "execution_count": null,
   "metadata": {},
   "outputs": [],
   "source": [
    "all_smc_lmc_pids = select_pids('smc') + select_pids('lmc')\n",
    "print(all_smc_lmc_pids)"
   ]
  },
  {
   "cell_type": "markdown",
   "metadata": {},
   "source": [
    "Example 3: select all massive stars without the extras, and return a list separated by ULLYSES PIDs vs Archival PIDS"
   ]
  },
  {
   "cell_type": "code",
   "execution_count": null,
   "metadata": {},
   "outputs": [],
   "source": [
    "massive_pids = select_all_pids(massive=True, extra=False, single_list=False)\n",
    "print(massive_pids['ULLYSES'])\n",
    "print(massive_pids['ARCHIVAL'])"
   ]
  },
  {
   "cell_type": "markdown",
   "metadata": {},
   "source": [
    "We can again use Astroquery to download the HLSPs from these selected PIDs. The following example is for our second selection on all SMC and LMC targets and their extras."
   ]
  },
  {
   "cell_type": "code",
   "execution_count": null,
   "metadata": {
    "scrolled": true
   },
   "outputs": [],
   "source": [
    "search_pids = Observations.query_criteria(proposal_id=all_smc_lmc_pids, provenance_name='ULLYSES')\n",
    "search_pids.pprint()\n",
    "\n",
    "data_products_pids = Observations.get_product_list(search_pids['obsid'])\n",
    "\n",
    "output_dir_smc_lmc = './all_smc_lmc'\n",
    "\n",
    "Observations.download_products(data_products_pids, download_dir=output_dir_smc_lmc, extension=['fits'], obs_collection=['HLSP'])\n",
    "\n",
    "mv_downloads(output_dir_smc_lmc)"
   ]
  },
  {
   "cell_type": "markdown",
   "metadata": {},
   "source": [
    "<a id=\"constiuent\"></a>\n",
    "# Downloading HLSP Constiuent Raw Data Files"
   ]
  },
  {
   "cell_type": "markdown",
   "metadata": {},
   "source": [
    "For the last example, we'll show how to download the raw data files that made up a HLSP. We will use one of the data sets that we downloaded in the last example here. Our HLSP will be the file `hlsp_ullyses_hst_cos_ngc1818-rob-d1_g130m-g160m-g185m_dr6_cspec.fits`, which is a level 4 product for the target NGC1818-ROB-D1. We can look at the provenance table in this file to find the constiuent spectra."
   ]
  },
  {
   "cell_type": "code",
   "execution_count": null,
   "metadata": {},
   "outputs": [],
   "source": [
    "hlsp_file_path = os.path.join(output_dir_smc_lmc, 'hlsp_ullyses_hst_cos_ngc1818-rob-d1_g130m-g160m-g185m_dr6_cspec.fits')"
   ]
  },
  {
   "cell_type": "code",
   "execution_count": null,
   "metadata": {},
   "outputs": [],
   "source": [
    "prov_table = Table(fits.getdata(hlsp_file_path, ext=2))\n",
    "prov_table.pprint_include_names = ('FILENAME', 'PROPOSID', 'INSTRUMENT', 'DETECTOR', 'DISPERSER', 'APERTURE', 'XPOSURE')\n",
    "prov_table.pprint()"
   ]
  },
  {
   "cell_type": "code",
   "execution_count": null,
   "metadata": {},
   "outputs": [],
   "source": [
    "# Make a list that is just the constiuent files from the provenance data\n",
    "# We will use this for comparison later\n",
    "spectra_filenames = prov_table['FILENAME']"
   ]
  },
  {
   "cell_type": "markdown",
   "metadata": {},
   "source": [
    "Next, we'll run a search using Astroquery on the target name and specifying the provenance name as ULLYSES. Then, we can see the data products associated with this search."
   ]
  },
  {
   "cell_type": "code",
   "execution_count": null,
   "metadata": {},
   "outputs": [],
   "source": [
    "search_target = Observations.query_criteria(target_name='ngc1818-rob-d1', provenance_name='ULLYSES')\n",
    "\n",
    "data_products = Observations.get_product_list(search_target['obsid'])\n",
    "print(data_products['productFilename'])"
   ]
  },
  {
   "cell_type": "markdown",
   "metadata": {},
   "source": [
    "Let's use a for-loop to compare the constiuent filenames from the provenance table to the data products returned from our query. We'll only save the observation IDs of the matching data products for later downloading."
   ]
  },
  {
   "cell_type": "code",
   "execution_count": null,
   "metadata": {},
   "outputs": [],
   "source": [
    "to_download = []\n",
    "for assocfile, obsid in zip(data_products['productFilename'], data_products['obsID']):\n",
    "    if assocfile in filenames:\n",
    "        to_download.append(obsid)"
   ]
  },
  {
   "cell_type": "markdown",
   "metadata": {},
   "source": [
    "Last, we can download the products that we saved in `to_download`. In the call to `download_products` in the following cell, not that we must specify the `obs_collection=['HST']`, which ensures we will not download any HLSPs, as well as `productSubGroupDescription=['X1D', 'SX1']`, otherwise all the other COS or STIS data products will be downloaded as well. One may change these parameters if more data products are desired."
   ]
  },
  {
   "cell_type": "code",
   "execution_count": null,
   "metadata": {},
   "outputs": [],
   "source": [
    "output_dir = './ngc1818-rob-d1/'\n",
    "Observations.download_products(to_download, download_dir=output_dir, extension=['fits'], obs_collection=['HST'], productSubGroupDescription=['X1D', 'SX1'])\n",
    "mv_downloads(output_dir)"
   ]
  },
  {
   "cell_type": "markdown",
   "metadata": {},
   "source": [
    "#### Now, go forth and download and make beautiful discoveries with our ULLYSES products!"
   ]
  },
  {
   "cell_type": "markdown",
   "metadata": {},
   "source": [
    "***"
   ]
  },
  {
   "cell_type": "markdown",
   "metadata": {},
   "source": [
    "## Additional Resources\n",
    "\n",
    "- [ULLYSES](https://ullyses.stsci.edu)\n",
    "- [MAST API](https://mast.stsci.edu/api/v0/index.html)"
   ]
  },
  {
   "cell_type": "markdown",
   "metadata": {},
   "source": [
    "## About this Notebook\n",
    "For support, contact us at the [ULLYSES Helpdesk](https://stsci.service-now.com/hst?id=sc_cat_item&sys_id=a3b8ec5edbb7985033b55dd5ce961990&sysparm_category=ac85189bdb4683c033b55dd5ce96199c).\n",
    "\n",
    "**Author:**  Elaine M Frazer\n",
    "\n",
    "**Updated On:** 2023-12-07"
   ]
  },
  {
   "cell_type": "markdown",
   "metadata": {},
   "source": [
    "## Citations\n",
    "* See the [ULLYSES website](https://ullyses.stsci.edu/ullyses-cite.html) for citation guidelines."
   ]
  },
  {
   "cell_type": "markdown",
   "metadata": {},
   "source": [
    "***"
   ]
  },
  {
   "cell_type": "markdown",
   "metadata": {},
   "source": [
    "[Top of Page](#top)\n",
    "<img style=\"float: right;\" src=\"https://raw.githubusercontent.com/spacetelescope/notebooks/master/assets/stsci_pri_combo_mark_horizonal_white_bkgd.png\" alt=\"Space Telescope Logo\" width=\"200px\"/> "
   ]
  }
 ],
 "metadata": {
  "kernelspec": {
   "display_name": "Python 3 (ipykernel)",
   "language": "python",
   "name": "python3"
  },
  "language_info": {
   "codemirror_mode": {
    "name": "ipython",
    "version": 3
   },
   "file_extension": ".py",
   "mimetype": "text/x-python",
   "name": "python",
   "nbconvert_exporter": "python",
   "pygments_lexer": "ipython3",
   "version": "3.11.3"
  }
 },
 "nbformat": 4,
 "nbformat_minor": 4
}
